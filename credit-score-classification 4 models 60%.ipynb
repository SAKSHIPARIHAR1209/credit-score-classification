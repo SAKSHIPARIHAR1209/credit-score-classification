{
 "cells": [
  {
   "cell_type": "code",
   "execution_count": 1,
   "id": "b7113a42",
   "metadata": {
    "execution": {
     "iopub.execute_input": "2022-12-15T11:09:43.415189Z",
     "iopub.status.busy": "2022-12-15T11:09:43.414727Z",
     "iopub.status.idle": "2022-12-15T11:09:45.049261Z",
     "shell.execute_reply": "2022-12-15T11:09:45.048322Z"
    },
    "papermill": {
     "duration": 1.655134,
     "end_time": "2022-12-15T11:09:45.051933",
     "exception": false,
     "start_time": "2022-12-15T11:09:43.396799",
     "status": "completed"
    },
    "tags": []
   },
   "outputs": [],
   "source": [
    "import pandas as pd\n",
    "import numpy as np\n",
    "import matplotlib.pyplot as plt\n",
    "import seaborn as sns\n",
    "%matplotlib inline\n",
    "from sklearn.model_selection import train_test_split\n",
    "from sklearn.preprocessing import StandardScaler\n",
    "from sklearn.metrics import accuracy_score\n",
    "from sklearn import preprocessing"
   ]
  },
  {
   "cell_type": "code",
   "execution_count": 2,
   "id": "e4dcec7d",
   "metadata": {
    "execution": {
     "iopub.execute_input": "2022-12-15T11:09:45.082433Z",
     "iopub.status.busy": "2022-12-15T11:09:45.081964Z",
     "iopub.status.idle": "2022-12-15T11:09:47.355801Z",
     "shell.execute_reply": "2022-12-15T11:09:47.354449Z"
    },
    "papermill": {
     "duration": 2.292604,
     "end_time": "2022-12-15T11:09:47.358905",
     "exception": false,
     "start_time": "2022-12-15T11:09:45.066301",
     "status": "completed"
    },
    "tags": []
   },
   "outputs": [],
   "source": [
    "train_df = pd.read_csv(\"train.csv\",low_memory=False)\n",
    "test_df = pd.read_csv(\"test.csv\")"
   ]
  },
  {
   "cell_type": "code",
   "execution_count": 3,
   "id": "bb2c07fa",
   "metadata": {
    "_cell_guid": "b1076dfc-b9ad-4769-8c92-a6c4dae69d19",
    "_uuid": "8f2839f25d086af736a60e9eeb907d3b93b6e0e5",
    "execution": {
     "iopub.execute_input": "2022-12-15T11:09:43.309027Z",
     "iopub.status.busy": "2022-12-15T11:09:43.308146Z",
     "iopub.status.idle": "2022-12-15T11:09:43.340805Z",
     "shell.execute_reply": "2022-12-15T11:09:43.338965Z"
    },
    "papermill": {
     "duration": 0.064697,
     "end_time": "2022-12-15T11:09:43.345326",
     "exception": false,
     "start_time": "2022-12-15T11:09:43.280629",
     "status": "completed"
    },
    "tags": []
   },
   "outputs": [
    {
     "name": "stderr",
     "output_type": "stream",
     "text": [
      "C:\\Users\\ASUS\\AppData\\Local\\Temp\\ipykernel_15996\\1768415552.py:1: DeprecationWarning: `import pandas_profiling` is going to be deprecated by April 1st. Please use `import ydata_profiling` instead.\n",
      "  from pandas_profiling import ProfileReport\n"
     ]
    },
    {
     "data": {
      "application/vnd.jupyter.widget-view+json": {
       "model_id": "c26cf48cf94741c18d925d348c6e4024",
       "version_major": 2,
       "version_minor": 0
      },
      "text/plain": [
       "Summarize dataset:   0%|          | 0/5 [00:00<?, ?it/s]"
      ]
     },
     "metadata": {},
     "output_type": "display_data"
    },
    {
     "data": {
      "application/vnd.jupyter.widget-view+json": {
       "model_id": "333b43675694443ea430e4175911df59",
       "version_major": 2,
       "version_minor": 0
      },
      "text/plain": [
       "Generate report structure:   0%|          | 0/1 [00:00<?, ?it/s]"
      ]
     },
     "metadata": {},
     "output_type": "display_data"
    },
    {
     "data": {
      "application/vnd.jupyter.widget-view+json": {
       "model_id": "f5edf67170f3422b90b91f47881b738e",
       "version_major": 2,
       "version_minor": 0
      },
      "text/plain": [
       "Render HTML:   0%|          | 0/1 [00:00<?, ?it/s]"
      ]
     },
     "metadata": {},
     "output_type": "display_data"
    },
    {
     "data": {
      "application/vnd.jupyter.widget-view+json": {
       "model_id": "0bcf851bed6e4a20bc139feea18c72fe",
       "version_major": 2,
       "version_minor": 0
      },
      "text/plain": [
       "Export report to file:   0%|          | 0/1 [00:00<?, ?it/s]"
      ]
     },
     "metadata": {},
     "output_type": "display_data"
    }
   ],
   "source": [
    "from pandas_profiling import ProfileReport\n",
    "import pandas as pd\n",
    "profile=ProfileReport(train_df)\n",
    "profile.to_file(output_file=\"train.html\")"
   ]
  },
  {
   "cell_type": "code",
   "execution_count": 4,
   "id": "01cdfd90",
   "metadata": {
    "execution": {
     "iopub.execute_input": "2022-12-15T11:09:47.469142Z",
     "iopub.status.busy": "2022-12-15T11:09:47.468050Z",
     "iopub.status.idle": "2022-12-15T11:09:47.495304Z",
     "shell.execute_reply": "2022-12-15T11:09:47.494431Z"
    },
    "papermill": {
     "duration": 0.046772,
     "end_time": "2022-12-15T11:09:47.497694",
     "exception": false,
     "start_time": "2022-12-15T11:09:47.450922",
     "status": "completed"
    },
    "tags": []
   },
   "outputs": [
    {
     "data": {
      "text/html": [
       "<div>\n",
       "<style scoped>\n",
       "    .dataframe tbody tr th:only-of-type {\n",
       "        vertical-align: middle;\n",
       "    }\n",
       "\n",
       "    .dataframe tbody tr th {\n",
       "        vertical-align: top;\n",
       "    }\n",
       "\n",
       "    .dataframe thead th {\n",
       "        text-align: right;\n",
       "    }\n",
       "</style>\n",
       "<table border=\"1\" class=\"dataframe\">\n",
       "  <thead>\n",
       "    <tr style=\"text-align: right;\">\n",
       "      <th></th>\n",
       "      <th>ID</th>\n",
       "      <th>Customer_ID</th>\n",
       "      <th>Month</th>\n",
       "      <th>Name</th>\n",
       "      <th>Age</th>\n",
       "      <th>SSN</th>\n",
       "      <th>Occupation</th>\n",
       "      <th>Annual_Income</th>\n",
       "      <th>Monthly_Inhand_Salary</th>\n",
       "      <th>Num_Bank_Accounts</th>\n",
       "      <th>...</th>\n",
       "      <th>Num_Credit_Inquiries</th>\n",
       "      <th>Credit_Mix</th>\n",
       "      <th>Outstanding_Debt</th>\n",
       "      <th>Credit_Utilization_Ratio</th>\n",
       "      <th>Credit_History_Age</th>\n",
       "      <th>Payment_of_Min_Amount</th>\n",
       "      <th>Total_EMI_per_month</th>\n",
       "      <th>Amount_invested_monthly</th>\n",
       "      <th>Payment_Behaviour</th>\n",
       "      <th>Monthly_Balance</th>\n",
       "    </tr>\n",
       "  </thead>\n",
       "  <tbody>\n",
       "    <tr>\n",
       "      <th>0</th>\n",
       "      <td>0x160a</td>\n",
       "      <td>CUS_0xd40</td>\n",
       "      <td>September</td>\n",
       "      <td>Aaron Maashoh</td>\n",
       "      <td>23</td>\n",
       "      <td>821-00-0265</td>\n",
       "      <td>Scientist</td>\n",
       "      <td>19114.12</td>\n",
       "      <td>1824.843333</td>\n",
       "      <td>3</td>\n",
       "      <td>...</td>\n",
       "      <td>2022.0</td>\n",
       "      <td>Good</td>\n",
       "      <td>809.98</td>\n",
       "      <td>35.030402</td>\n",
       "      <td>22 Years and 9 Months</td>\n",
       "      <td>No</td>\n",
       "      <td>49.574949</td>\n",
       "      <td>236.64268203272135</td>\n",
       "      <td>Low_spent_Small_value_payments</td>\n",
       "      <td>186.26670208571772</td>\n",
       "    </tr>\n",
       "    <tr>\n",
       "      <th>1</th>\n",
       "      <td>0x160b</td>\n",
       "      <td>CUS_0xd40</td>\n",
       "      <td>October</td>\n",
       "      <td>Aaron Maashoh</td>\n",
       "      <td>24</td>\n",
       "      <td>821-00-0265</td>\n",
       "      <td>Scientist</td>\n",
       "      <td>19114.12</td>\n",
       "      <td>1824.843333</td>\n",
       "      <td>3</td>\n",
       "      <td>...</td>\n",
       "      <td>4.0</td>\n",
       "      <td>Good</td>\n",
       "      <td>809.98</td>\n",
       "      <td>33.053114</td>\n",
       "      <td>22 Years and 10 Months</td>\n",
       "      <td>No</td>\n",
       "      <td>49.574949</td>\n",
       "      <td>21.465380264657146</td>\n",
       "      <td>High_spent_Medium_value_payments</td>\n",
       "      <td>361.44400385378196</td>\n",
       "    </tr>\n",
       "    <tr>\n",
       "      <th>2</th>\n",
       "      <td>0x160c</td>\n",
       "      <td>CUS_0xd40</td>\n",
       "      <td>November</td>\n",
       "      <td>Aaron Maashoh</td>\n",
       "      <td>24</td>\n",
       "      <td>821-00-0265</td>\n",
       "      <td>Scientist</td>\n",
       "      <td>19114.12</td>\n",
       "      <td>1824.843333</td>\n",
       "      <td>3</td>\n",
       "      <td>...</td>\n",
       "      <td>4.0</td>\n",
       "      <td>Good</td>\n",
       "      <td>809.98</td>\n",
       "      <td>33.811894</td>\n",
       "      <td>NaN</td>\n",
       "      <td>No</td>\n",
       "      <td>49.574949</td>\n",
       "      <td>148.23393788500925</td>\n",
       "      <td>Low_spent_Medium_value_payments</td>\n",
       "      <td>264.67544623342997</td>\n",
       "    </tr>\n",
       "    <tr>\n",
       "      <th>3</th>\n",
       "      <td>0x160d</td>\n",
       "      <td>CUS_0xd40</td>\n",
       "      <td>December</td>\n",
       "      <td>Aaron Maashoh</td>\n",
       "      <td>24_</td>\n",
       "      <td>821-00-0265</td>\n",
       "      <td>Scientist</td>\n",
       "      <td>19114.12</td>\n",
       "      <td>NaN</td>\n",
       "      <td>3</td>\n",
       "      <td>...</td>\n",
       "      <td>4.0</td>\n",
       "      <td>Good</td>\n",
       "      <td>809.98</td>\n",
       "      <td>32.430559</td>\n",
       "      <td>23 Years and 0 Months</td>\n",
       "      <td>No</td>\n",
       "      <td>49.574949</td>\n",
       "      <td>39.08251089460281</td>\n",
       "      <td>High_spent_Medium_value_payments</td>\n",
       "      <td>343.82687322383634</td>\n",
       "    </tr>\n",
       "    <tr>\n",
       "      <th>4</th>\n",
       "      <td>0x1616</td>\n",
       "      <td>CUS_0x21b1</td>\n",
       "      <td>September</td>\n",
       "      <td>Rick Rothackerj</td>\n",
       "      <td>28</td>\n",
       "      <td>004-07-5839</td>\n",
       "      <td>_______</td>\n",
       "      <td>34847.84</td>\n",
       "      <td>3037.986667</td>\n",
       "      <td>2</td>\n",
       "      <td>...</td>\n",
       "      <td>5.0</td>\n",
       "      <td>Good</td>\n",
       "      <td>605.03</td>\n",
       "      <td>25.926822</td>\n",
       "      <td>27 Years and 3 Months</td>\n",
       "      <td>No</td>\n",
       "      <td>18.816215</td>\n",
       "      <td>39.684018417945296</td>\n",
       "      <td>High_spent_Large_value_payments</td>\n",
       "      <td>485.2984336755923</td>\n",
       "    </tr>\n",
       "  </tbody>\n",
       "</table>\n",
       "<p>5 rows × 27 columns</p>\n",
       "</div>"
      ],
      "text/plain": [
       "       ID Customer_ID      Month             Name  Age          SSN  \\\n",
       "0  0x160a   CUS_0xd40  September    Aaron Maashoh   23  821-00-0265   \n",
       "1  0x160b   CUS_0xd40    October    Aaron Maashoh   24  821-00-0265   \n",
       "2  0x160c   CUS_0xd40   November    Aaron Maashoh   24  821-00-0265   \n",
       "3  0x160d   CUS_0xd40   December    Aaron Maashoh  24_  821-00-0265   \n",
       "4  0x1616  CUS_0x21b1  September  Rick Rothackerj   28  004-07-5839   \n",
       "\n",
       "  Occupation Annual_Income  Monthly_Inhand_Salary  Num_Bank_Accounts  ...  \\\n",
       "0  Scientist      19114.12            1824.843333                  3  ...   \n",
       "1  Scientist      19114.12            1824.843333                  3  ...   \n",
       "2  Scientist      19114.12            1824.843333                  3  ...   \n",
       "3  Scientist      19114.12                    NaN                  3  ...   \n",
       "4    _______      34847.84            3037.986667                  2  ...   \n",
       "\n",
       "   Num_Credit_Inquiries  Credit_Mix Outstanding_Debt Credit_Utilization_Ratio  \\\n",
       "0                2022.0        Good           809.98                35.030402   \n",
       "1                   4.0        Good           809.98                33.053114   \n",
       "2                   4.0        Good           809.98                33.811894   \n",
       "3                   4.0        Good           809.98                32.430559   \n",
       "4                   5.0        Good           605.03                25.926822   \n",
       "\n",
       "       Credit_History_Age Payment_of_Min_Amount Total_EMI_per_month  \\\n",
       "0   22 Years and 9 Months                    No           49.574949   \n",
       "1  22 Years and 10 Months                    No           49.574949   \n",
       "2                     NaN                    No           49.574949   \n",
       "3   23 Years and 0 Months                    No           49.574949   \n",
       "4   27 Years and 3 Months                    No           18.816215   \n",
       "\n",
       "   Amount_invested_monthly                 Payment_Behaviour  \\\n",
       "0       236.64268203272135    Low_spent_Small_value_payments   \n",
       "1       21.465380264657146  High_spent_Medium_value_payments   \n",
       "2       148.23393788500925   Low_spent_Medium_value_payments   \n",
       "3        39.08251089460281  High_spent_Medium_value_payments   \n",
       "4       39.684018417945296   High_spent_Large_value_payments   \n",
       "\n",
       "      Monthly_Balance  \n",
       "0  186.26670208571772  \n",
       "1  361.44400385378196  \n",
       "2  264.67544623342997  \n",
       "3  343.82687322383634  \n",
       "4   485.2984336755923  \n",
       "\n",
       "[5 rows x 27 columns]"
      ]
     },
     "execution_count": 4,
     "metadata": {},
     "output_type": "execute_result"
    }
   ],
   "source": [
    "test_df.head()"
   ]
  },
  {
   "cell_type": "code",
   "execution_count": 5,
   "id": "e2f33744",
   "metadata": {
    "execution": {
     "iopub.execute_input": "2022-12-15T11:09:47.532647Z",
     "iopub.status.busy": "2022-12-15T11:09:47.531210Z",
     "iopub.status.idle": "2022-12-15T11:09:47.540048Z",
     "shell.execute_reply": "2022-12-15T11:09:47.538839Z"
    },
    "papermill": {
     "duration": 0.029587,
     "end_time": "2022-12-15T11:09:47.542878",
     "exception": false,
     "start_time": "2022-12-15T11:09:47.513291",
     "status": "completed"
    },
    "tags": []
   },
   "outputs": [
    {
     "data": {
      "text/plain": [
       "((100000, 28), (50000, 27))"
      ]
     },
     "execution_count": 5,
     "metadata": {},
     "output_type": "execute_result"
    }
   ],
   "source": [
    "train_df.shape , test_df.shape"
   ]
  },
  {
   "cell_type": "code",
   "execution_count": 6,
   "id": "138c9694",
   "metadata": {
    "execution": {
     "iopub.execute_input": "2022-12-15T11:09:47.578154Z",
     "iopub.status.busy": "2022-12-15T11:09:47.577260Z",
     "iopub.status.idle": "2022-12-15T11:09:47.606739Z",
     "shell.execute_reply": "2022-12-15T11:09:47.605288Z"
    },
    "papermill": {
     "duration": 0.049963,
     "end_time": "2022-12-15T11:09:47.609458",
     "exception": false,
     "start_time": "2022-12-15T11:09:47.559495",
     "status": "completed"
    },
    "tags": []
   },
   "outputs": [],
   "source": [
    "train_df.drop(['ID','Customer_ID','Month','Name','SSN',\n",
    "               'Type_of_Loan','Credit_History_Age']\n",
    "               ,axis=1,inplace=True)"
   ]
  },
  {
   "cell_type": "code",
   "execution_count": 7,
   "id": "99483a8d",
   "metadata": {
    "execution": {
     "iopub.execute_input": "2022-12-15T11:09:47.643104Z",
     "iopub.status.busy": "2022-12-15T11:09:47.642677Z",
     "iopub.status.idle": "2022-12-15T11:09:47.671770Z",
     "shell.execute_reply": "2022-12-15T11:09:47.670469Z"
    },
    "papermill": {
     "duration": 0.049293,
     "end_time": "2022-12-15T11:09:47.674299",
     "exception": false,
     "start_time": "2022-12-15T11:09:47.625006",
     "status": "completed"
    },
    "tags": []
   },
   "outputs": [
    {
     "data": {
      "text/html": [
       "<div>\n",
       "<style scoped>\n",
       "    .dataframe tbody tr th:only-of-type {\n",
       "        vertical-align: middle;\n",
       "    }\n",
       "\n",
       "    .dataframe tbody tr th {\n",
       "        vertical-align: top;\n",
       "    }\n",
       "\n",
       "    .dataframe thead th {\n",
       "        text-align: right;\n",
       "    }\n",
       "</style>\n",
       "<table border=\"1\" class=\"dataframe\">\n",
       "  <thead>\n",
       "    <tr style=\"text-align: right;\">\n",
       "      <th></th>\n",
       "      <th>Age</th>\n",
       "      <th>Occupation</th>\n",
       "      <th>Annual_Income</th>\n",
       "      <th>Monthly_Inhand_Salary</th>\n",
       "      <th>Num_Bank_Accounts</th>\n",
       "      <th>Num_Credit_Card</th>\n",
       "      <th>Interest_Rate</th>\n",
       "      <th>Num_of_Loan</th>\n",
       "      <th>Delay_from_due_date</th>\n",
       "      <th>Num_of_Delayed_Payment</th>\n",
       "      <th>...</th>\n",
       "      <th>Num_Credit_Inquiries</th>\n",
       "      <th>Credit_Mix</th>\n",
       "      <th>Outstanding_Debt</th>\n",
       "      <th>Credit_Utilization_Ratio</th>\n",
       "      <th>Payment_of_Min_Amount</th>\n",
       "      <th>Total_EMI_per_month</th>\n",
       "      <th>Amount_invested_monthly</th>\n",
       "      <th>Payment_Behaviour</th>\n",
       "      <th>Monthly_Balance</th>\n",
       "      <th>Credit_Score</th>\n",
       "    </tr>\n",
       "  </thead>\n",
       "  <tbody>\n",
       "    <tr>\n",
       "      <th>0</th>\n",
       "      <td>23</td>\n",
       "      <td>Scientist</td>\n",
       "      <td>19114.12</td>\n",
       "      <td>1824.843333</td>\n",
       "      <td>3</td>\n",
       "      <td>4</td>\n",
       "      <td>3</td>\n",
       "      <td>4</td>\n",
       "      <td>3</td>\n",
       "      <td>7</td>\n",
       "      <td>...</td>\n",
       "      <td>4.0</td>\n",
       "      <td>_</td>\n",
       "      <td>809.98</td>\n",
       "      <td>26.822620</td>\n",
       "      <td>No</td>\n",
       "      <td>49.574949</td>\n",
       "      <td>80.41529543900253</td>\n",
       "      <td>High_spent_Small_value_payments</td>\n",
       "      <td>312.49408867943663</td>\n",
       "      <td>Good</td>\n",
       "    </tr>\n",
       "    <tr>\n",
       "      <th>1</th>\n",
       "      <td>23</td>\n",
       "      <td>Scientist</td>\n",
       "      <td>19114.12</td>\n",
       "      <td>NaN</td>\n",
       "      <td>3</td>\n",
       "      <td>4</td>\n",
       "      <td>3</td>\n",
       "      <td>4</td>\n",
       "      <td>-1</td>\n",
       "      <td>NaN</td>\n",
       "      <td>...</td>\n",
       "      <td>4.0</td>\n",
       "      <td>Good</td>\n",
       "      <td>809.98</td>\n",
       "      <td>31.944960</td>\n",
       "      <td>No</td>\n",
       "      <td>49.574949</td>\n",
       "      <td>118.28022162236736</td>\n",
       "      <td>Low_spent_Large_value_payments</td>\n",
       "      <td>284.62916249607184</td>\n",
       "      <td>Good</td>\n",
       "    </tr>\n",
       "    <tr>\n",
       "      <th>2</th>\n",
       "      <td>-500</td>\n",
       "      <td>Scientist</td>\n",
       "      <td>19114.12</td>\n",
       "      <td>NaN</td>\n",
       "      <td>3</td>\n",
       "      <td>4</td>\n",
       "      <td>3</td>\n",
       "      <td>4</td>\n",
       "      <td>3</td>\n",
       "      <td>7</td>\n",
       "      <td>...</td>\n",
       "      <td>4.0</td>\n",
       "      <td>Good</td>\n",
       "      <td>809.98</td>\n",
       "      <td>28.609352</td>\n",
       "      <td>No</td>\n",
       "      <td>49.574949</td>\n",
       "      <td>81.699521264648</td>\n",
       "      <td>Low_spent_Medium_value_payments</td>\n",
       "      <td>331.2098628537912</td>\n",
       "      <td>Good</td>\n",
       "    </tr>\n",
       "    <tr>\n",
       "      <th>3</th>\n",
       "      <td>23</td>\n",
       "      <td>Scientist</td>\n",
       "      <td>19114.12</td>\n",
       "      <td>NaN</td>\n",
       "      <td>3</td>\n",
       "      <td>4</td>\n",
       "      <td>3</td>\n",
       "      <td>4</td>\n",
       "      <td>5</td>\n",
       "      <td>4</td>\n",
       "      <td>...</td>\n",
       "      <td>4.0</td>\n",
       "      <td>Good</td>\n",
       "      <td>809.98</td>\n",
       "      <td>31.377862</td>\n",
       "      <td>No</td>\n",
       "      <td>49.574949</td>\n",
       "      <td>199.4580743910713</td>\n",
       "      <td>Low_spent_Small_value_payments</td>\n",
       "      <td>223.45130972736786</td>\n",
       "      <td>Good</td>\n",
       "    </tr>\n",
       "    <tr>\n",
       "      <th>4</th>\n",
       "      <td>23</td>\n",
       "      <td>Scientist</td>\n",
       "      <td>19114.12</td>\n",
       "      <td>1824.843333</td>\n",
       "      <td>3</td>\n",
       "      <td>4</td>\n",
       "      <td>3</td>\n",
       "      <td>4</td>\n",
       "      <td>6</td>\n",
       "      <td>NaN</td>\n",
       "      <td>...</td>\n",
       "      <td>4.0</td>\n",
       "      <td>Good</td>\n",
       "      <td>809.98</td>\n",
       "      <td>24.797347</td>\n",
       "      <td>No</td>\n",
       "      <td>49.574949</td>\n",
       "      <td>41.420153086217326</td>\n",
       "      <td>High_spent_Medium_value_payments</td>\n",
       "      <td>341.48923103222177</td>\n",
       "      <td>Good</td>\n",
       "    </tr>\n",
       "  </tbody>\n",
       "</table>\n",
       "<p>5 rows × 21 columns</p>\n",
       "</div>"
      ],
      "text/plain": [
       "    Age Occupation Annual_Income  Monthly_Inhand_Salary  Num_Bank_Accounts  \\\n",
       "0    23  Scientist      19114.12            1824.843333                  3   \n",
       "1    23  Scientist      19114.12                    NaN                  3   \n",
       "2  -500  Scientist      19114.12                    NaN                  3   \n",
       "3    23  Scientist      19114.12                    NaN                  3   \n",
       "4    23  Scientist      19114.12            1824.843333                  3   \n",
       "\n",
       "   Num_Credit_Card  Interest_Rate Num_of_Loan  Delay_from_due_date  \\\n",
       "0                4              3           4                    3   \n",
       "1                4              3           4                   -1   \n",
       "2                4              3           4                    3   \n",
       "3                4              3           4                    5   \n",
       "4                4              3           4                    6   \n",
       "\n",
       "  Num_of_Delayed_Payment  ... Num_Credit_Inquiries  Credit_Mix  \\\n",
       "0                      7  ...                  4.0           _   \n",
       "1                    NaN  ...                  4.0        Good   \n",
       "2                      7  ...                  4.0        Good   \n",
       "3                      4  ...                  4.0        Good   \n",
       "4                    NaN  ...                  4.0        Good   \n",
       "\n",
       "  Outstanding_Debt Credit_Utilization_Ratio  Payment_of_Min_Amount  \\\n",
       "0           809.98                26.822620                     No   \n",
       "1           809.98                31.944960                     No   \n",
       "2           809.98                28.609352                     No   \n",
       "3           809.98                31.377862                     No   \n",
       "4           809.98                24.797347                     No   \n",
       "\n",
       "  Total_EMI_per_month  Amount_invested_monthly  \\\n",
       "0           49.574949        80.41529543900253   \n",
       "1           49.574949       118.28022162236736   \n",
       "2           49.574949          81.699521264648   \n",
       "3           49.574949        199.4580743910713   \n",
       "4           49.574949       41.420153086217326   \n",
       "\n",
       "                  Payment_Behaviour     Monthly_Balance Credit_Score  \n",
       "0   High_spent_Small_value_payments  312.49408867943663         Good  \n",
       "1    Low_spent_Large_value_payments  284.62916249607184         Good  \n",
       "2   Low_spent_Medium_value_payments   331.2098628537912         Good  \n",
       "3    Low_spent_Small_value_payments  223.45130972736786         Good  \n",
       "4  High_spent_Medium_value_payments  341.48923103222177         Good  \n",
       "\n",
       "[5 rows x 21 columns]"
      ]
     },
     "execution_count": 7,
     "metadata": {},
     "output_type": "execute_result"
    }
   ],
   "source": [
    "train_df.head()"
   ]
  },
  {
   "cell_type": "code",
   "execution_count": 8,
   "id": "0ee76974",
   "metadata": {
    "execution": {
     "iopub.execute_input": "2022-12-15T11:09:47.709155Z",
     "iopub.status.busy": "2022-12-15T11:09:47.708680Z",
     "iopub.status.idle": "2022-12-15T11:09:47.790480Z",
     "shell.execute_reply": "2022-12-15T11:09:47.788749Z"
    },
    "papermill": {
     "duration": 0.102771,
     "end_time": "2022-12-15T11:09:47.793234",
     "exception": false,
     "start_time": "2022-12-15T11:09:47.690463",
     "status": "completed"
    },
    "tags": []
   },
   "outputs": [
    {
     "name": "stdout",
     "output_type": "stream",
     "text": [
      "<class 'pandas.core.frame.DataFrame'>\n",
      "RangeIndex: 100000 entries, 0 to 99999\n",
      "Data columns (total 21 columns):\n",
      " #   Column                    Non-Null Count   Dtype  \n",
      "---  ------                    --------------   -----  \n",
      " 0   Age                       100000 non-null  object \n",
      " 1   Occupation                100000 non-null  object \n",
      " 2   Annual_Income             100000 non-null  object \n",
      " 3   Monthly_Inhand_Salary     84998 non-null   float64\n",
      " 4   Num_Bank_Accounts         100000 non-null  int64  \n",
      " 5   Num_Credit_Card           100000 non-null  int64  \n",
      " 6   Interest_Rate             100000 non-null  int64  \n",
      " 7   Num_of_Loan               100000 non-null  object \n",
      " 8   Delay_from_due_date       100000 non-null  int64  \n",
      " 9   Num_of_Delayed_Payment    92998 non-null   object \n",
      " 10  Changed_Credit_Limit      100000 non-null  object \n",
      " 11  Num_Credit_Inquiries      98035 non-null   float64\n",
      " 12  Credit_Mix                100000 non-null  object \n",
      " 13  Outstanding_Debt          100000 non-null  object \n",
      " 14  Credit_Utilization_Ratio  100000 non-null  float64\n",
      " 15  Payment_of_Min_Amount     100000 non-null  object \n",
      " 16  Total_EMI_per_month       100000 non-null  float64\n",
      " 17  Amount_invested_monthly   95521 non-null   object \n",
      " 18  Payment_Behaviour         100000 non-null  object \n",
      " 19  Monthly_Balance           98800 non-null   object \n",
      " 20  Credit_Score              100000 non-null  object \n",
      "dtypes: float64(4), int64(4), object(13)\n",
      "memory usage: 16.0+ MB\n"
     ]
    }
   ],
   "source": [
    "train_df.info()"
   ]
  },
  {
   "cell_type": "code",
   "execution_count": 9,
   "id": "c4df3575",
   "metadata": {
    "execution": {
     "iopub.execute_input": "2022-12-15T11:09:47.827528Z",
     "iopub.status.busy": "2022-12-15T11:09:47.827062Z",
     "iopub.status.idle": "2022-12-15T11:09:51.200142Z",
     "shell.execute_reply": "2022-12-15T11:09:51.198905Z"
    },
    "papermill": {
     "duration": 3.393688,
     "end_time": "2022-12-15T11:09:51.203015",
     "exception": false,
     "start_time": "2022-12-15T11:09:47.809327",
     "status": "completed"
    },
    "tags": []
   },
   "outputs": [
    {
     "data": {
      "text/plain": [
       "<Axes: >"
      ]
     },
     "execution_count": 9,
     "metadata": {},
     "output_type": "execute_result"
    },
    {
     "data": {
      "image/png": "[encoded data removed]",
      "text/plain": [
       "<Figure size 640x480 with 2 Axes>"
      ]
     },
     "metadata": {},
     "output_type": "display_data"
    }
   ],
   "source": [
    "sns.heatmap(train_df.isnull())"
   ]
  },
  {
   "cell_type": "code",
   "execution_count": 10,
   "id": "754a15bc",
   "metadata": {
    "execution": {
     "iopub.execute_input": "2022-12-15T11:09:51.239894Z",
     "iopub.status.busy": "2022-12-15T11:09:51.239116Z",
     "iopub.status.idle": "2022-12-15T11:09:51.306739Z",
     "shell.execute_reply": "2022-12-15T11:09:51.305419Z"
    },
    "papermill": {
     "duration": 0.089173,
     "end_time": "2022-12-15T11:09:51.309607",
     "exception": false,
     "start_time": "2022-12-15T11:09:51.220434",
     "status": "completed"
    },
    "tags": []
   },
   "outputs": [
    {
     "data": {
      "text/plain": [
       "Age                             0\n",
       "Occupation                      0\n",
       "Annual_Income                   0\n",
       "Monthly_Inhand_Salary       15002\n",
       "Num_Bank_Accounts               0\n",
       "Num_Credit_Card                 0\n",
       "Interest_Rate                   0\n",
       "Num_of_Loan                     0\n",
       "Delay_from_due_date             0\n",
       "Num_of_Delayed_Payment       7002\n",
       "Changed_Credit_Limit            0\n",
       "Num_Credit_Inquiries         1965\n",
       "Credit_Mix                      0\n",
       "Outstanding_Debt                0\n",
       "Credit_Utilization_Ratio        0\n",
       "Payment_of_Min_Amount           0\n",
       "Total_EMI_per_month             0\n",
       "Amount_invested_monthly      4479\n",
       "Payment_Behaviour               0\n",
       "Monthly_Balance              1200\n",
       "Credit_Score                    0\n",
       "dtype: int64"
      ]
     },
     "execution_count": 10,
     "metadata": {},
     "output_type": "execute_result"
    }
   ],
   "source": [
    "train_df.isnull().sum()"
   ]
  },
  {
   "cell_type": "code",
   "execution_count": 11,
   "id": "56702347",
   "metadata": {
    "execution": {
     "iopub.execute_input": "2022-12-15T11:09:51.346150Z",
     "iopub.status.busy": "2022-12-15T11:09:51.345457Z",
     "iopub.status.idle": "2022-12-15T11:09:51.561061Z",
     "shell.execute_reply": "2022-12-15T11:09:51.559828Z"
    },
    "papermill": {
     "duration": 0.236821,
     "end_time": "2022-12-15T11:09:51.563364",
     "exception": false,
     "start_time": "2022-12-15T11:09:51.326543",
     "status": "completed"
    },
    "tags": []
   },
   "outputs": [
    {
     "data": {
      "text/plain": [
       "0"
      ]
     },
     "execution_count": 11,
     "metadata": {},
     "output_type": "execute_result"
    }
   ],
   "source": [
    "train_df.duplicated().sum()"
   ]
  },
  {
   "cell_type": "code",
   "execution_count": 12,
   "id": "e4ed1c81",
   "metadata": {
    "execution": {
     "iopub.execute_input": "2022-12-15T11:09:51.599342Z",
     "iopub.status.busy": "2022-12-15T11:09:51.598905Z",
     "iopub.status.idle": "2022-12-15T11:09:51.662522Z",
     "shell.execute_reply": "2022-12-15T11:09:51.661067Z"
    },
    "papermill": {
     "duration": 0.08506,
     "end_time": "2022-12-15T11:09:51.665474",
     "exception": false,
     "start_time": "2022-12-15T11:09:51.580414",
     "status": "completed"
    },
    "tags": []
   },
   "outputs": [
    {
     "name": "stdout",
     "output_type": "stream",
     "text": [
      "772 Records dropped\n"
     ]
    }
   ],
   "source": [
    "size_before_cleaning = test_df.shape\n",
    "test_df = test_df[test_df.isnull().sum(axis=1) < 3]\n",
    "print(\"{} Records dropped\".format(size_before_cleaning[0] - test_df.shape[0]))"
   ]
  },
  {
   "cell_type": "code",
   "execution_count": 13,
   "id": "ab32a947",
   "metadata": {
    "execution": {
     "iopub.execute_input": "2022-12-15T11:09:51.701716Z",
     "iopub.status.busy": "2022-12-15T11:09:51.701280Z",
     "iopub.status.idle": "2022-12-15T11:09:51.707492Z",
     "shell.execute_reply": "2022-12-15T11:09:51.706120Z"
    },
    "papermill": {
     "duration": 0.027088,
     "end_time": "2022-12-15T11:09:51.709796",
     "exception": false,
     "start_time": "2022-12-15T11:09:51.682708",
     "status": "completed"
    },
    "tags": []
   },
   "outputs": [],
   "source": [
    "def filter_general(value):\n",
    "    if '-' in str(value):\n",
    "        return str(value).split('-')[1]\n",
    "    elif '_' in str(value):\n",
    "        return str(value).split('_')[0]\n",
    "    else:\n",
    "        return str(value)"
   ]
  },
  {
   "cell_type": "code",
   "execution_count": 14,
   "id": "9826de33",
   "metadata": {
    "execution": {
     "iopub.execute_input": "2022-12-15T11:09:51.747198Z",
     "iopub.status.busy": "2022-12-15T11:09:51.746404Z",
     "iopub.status.idle": "2022-12-15T11:09:51.753165Z",
     "shell.execute_reply": "2022-12-15T11:09:51.751835Z"
    },
    "papermill": {
     "duration": 0.028633,
     "end_time": "2022-12-15T11:09:51.756104",
     "exception": false,
     "start_time": "2022-12-15T11:09:51.727471",
     "status": "completed"
    },
    "tags": []
   },
   "outputs": [],
   "source": [
    "def filter_delayed_payments(value):\n",
    "    if \"__\" in str(value):\n",
    "        return str(value).split(\"__\")[1]\n",
    "    elif '_' in str(value):\n",
    "        return str(value).replace(\"_\", \"\")\n",
    "    elif str(value) == '_':\n",
    "        return str(value)\n",
    "    else:\n",
    "        return str(value)"
   ]
  },
  {
   "cell_type": "code",
   "execution_count": 15,
   "id": "4e22bc2f",
   "metadata": {
    "execution": {
     "iopub.execute_input": "2022-12-15T11:09:51.792667Z",
     "iopub.status.busy": "2022-12-15T11:09:51.792095Z",
     "iopub.status.idle": "2022-12-15T11:09:51.798084Z",
     "shell.execute_reply": "2022-12-15T11:09:51.796795Z"
    },
    "papermill": {
     "duration": 0.027228,
     "end_time": "2022-12-15T11:09:51.800552",
     "exception": false,
     "start_time": "2022-12-15T11:09:51.773324",
     "status": "completed"
    },
    "tags": []
   },
   "outputs": [],
   "source": [
    "def Amount_invested_monthly(col):\n",
    "    if \"__\" in str(col):\n",
    "        return str(col).split(\"__\")[1]\n",
    "    else:\n",
    "        return str(col)"
   ]
  },
  {
   "cell_type": "code",
   "execution_count": 16,
   "id": "1bd77841",
   "metadata": {
    "execution": {
     "iopub.execute_input": "2022-12-15T11:09:51.836708Z",
     "iopub.status.busy": "2022-12-15T11:09:51.836239Z",
     "iopub.status.idle": "2022-12-15T11:09:51.867241Z",
     "shell.execute_reply": "2022-12-15T11:09:51.866022Z"
    },
    "papermill": {
     "duration": 0.052145,
     "end_time": "2022-12-15T11:09:51.869753",
     "exception": false,
     "start_time": "2022-12-15T11:09:51.817608",
     "status": "completed"
    },
    "tags": []
   },
   "outputs": [
    {
     "data": {
      "text/html": [
       "<div>\n",
       "<style scoped>\n",
       "    .dataframe tbody tr th:only-of-type {\n",
       "        vertical-align: middle;\n",
       "    }\n",
       "\n",
       "    .dataframe tbody tr th {\n",
       "        vertical-align: top;\n",
       "    }\n",
       "\n",
       "    .dataframe thead th {\n",
       "        text-align: right;\n",
       "    }\n",
       "</style>\n",
       "<table border=\"1\" class=\"dataframe\">\n",
       "  <thead>\n",
       "    <tr style=\"text-align: right;\">\n",
       "      <th></th>\n",
       "      <th>Age</th>\n",
       "      <th>Occupation</th>\n",
       "      <th>Annual_Income</th>\n",
       "      <th>Monthly_Inhand_Salary</th>\n",
       "      <th>Num_Bank_Accounts</th>\n",
       "      <th>Num_Credit_Card</th>\n",
       "      <th>Interest_Rate</th>\n",
       "      <th>Num_of_Loan</th>\n",
       "      <th>Delay_from_due_date</th>\n",
       "      <th>Num_of_Delayed_Payment</th>\n",
       "      <th>...</th>\n",
       "      <th>Num_Credit_Inquiries</th>\n",
       "      <th>Credit_Mix</th>\n",
       "      <th>Outstanding_Debt</th>\n",
       "      <th>Credit_Utilization_Ratio</th>\n",
       "      <th>Payment_of_Min_Amount</th>\n",
       "      <th>Total_EMI_per_month</th>\n",
       "      <th>Amount_invested_monthly</th>\n",
       "      <th>Payment_Behaviour</th>\n",
       "      <th>Monthly_Balance</th>\n",
       "      <th>Credit_Score</th>\n",
       "    </tr>\n",
       "  </thead>\n",
       "  <tbody>\n",
       "    <tr>\n",
       "      <th>0</th>\n",
       "      <td>23</td>\n",
       "      <td>Scientist</td>\n",
       "      <td>19114.12</td>\n",
       "      <td>1824.843333</td>\n",
       "      <td>3</td>\n",
       "      <td>4</td>\n",
       "      <td>3</td>\n",
       "      <td>4</td>\n",
       "      <td>3</td>\n",
       "      <td>7</td>\n",
       "      <td>...</td>\n",
       "      <td>4.0</td>\n",
       "      <td>_</td>\n",
       "      <td>809.98</td>\n",
       "      <td>26.822620</td>\n",
       "      <td>No</td>\n",
       "      <td>49.574949</td>\n",
       "      <td>80.41529543900253</td>\n",
       "      <td>High_spent_Small_value_payments</td>\n",
       "      <td>312.49408867943663</td>\n",
       "      <td>Good</td>\n",
       "    </tr>\n",
       "    <tr>\n",
       "      <th>1</th>\n",
       "      <td>23</td>\n",
       "      <td>Scientist</td>\n",
       "      <td>19114.12</td>\n",
       "      <td>NaN</td>\n",
       "      <td>3</td>\n",
       "      <td>4</td>\n",
       "      <td>3</td>\n",
       "      <td>4</td>\n",
       "      <td>-1</td>\n",
       "      <td>NaN</td>\n",
       "      <td>...</td>\n",
       "      <td>4.0</td>\n",
       "      <td>Good</td>\n",
       "      <td>809.98</td>\n",
       "      <td>31.944960</td>\n",
       "      <td>No</td>\n",
       "      <td>49.574949</td>\n",
       "      <td>118.28022162236736</td>\n",
       "      <td>Low_spent_Large_value_payments</td>\n",
       "      <td>284.62916249607184</td>\n",
       "      <td>Good</td>\n",
       "    </tr>\n",
       "    <tr>\n",
       "      <th>2</th>\n",
       "      <td>-500</td>\n",
       "      <td>Scientist</td>\n",
       "      <td>19114.12</td>\n",
       "      <td>NaN</td>\n",
       "      <td>3</td>\n",
       "      <td>4</td>\n",
       "      <td>3</td>\n",
       "      <td>4</td>\n",
       "      <td>3</td>\n",
       "      <td>7</td>\n",
       "      <td>...</td>\n",
       "      <td>4.0</td>\n",
       "      <td>Good</td>\n",
       "      <td>809.98</td>\n",
       "      <td>28.609352</td>\n",
       "      <td>No</td>\n",
       "      <td>49.574949</td>\n",
       "      <td>81.699521264648</td>\n",
       "      <td>Low_spent_Medium_value_payments</td>\n",
       "      <td>331.2098628537912</td>\n",
       "      <td>Good</td>\n",
       "    </tr>\n",
       "    <tr>\n",
       "      <th>3</th>\n",
       "      <td>23</td>\n",
       "      <td>Scientist</td>\n",
       "      <td>19114.12</td>\n",
       "      <td>NaN</td>\n",
       "      <td>3</td>\n",
       "      <td>4</td>\n",
       "      <td>3</td>\n",
       "      <td>4</td>\n",
       "      <td>5</td>\n",
       "      <td>4</td>\n",
       "      <td>...</td>\n",
       "      <td>4.0</td>\n",
       "      <td>Good</td>\n",
       "      <td>809.98</td>\n",
       "      <td>31.377862</td>\n",
       "      <td>No</td>\n",
       "      <td>49.574949</td>\n",
       "      <td>199.4580743910713</td>\n",
       "      <td>Low_spent_Small_value_payments</td>\n",
       "      <td>223.45130972736786</td>\n",
       "      <td>Good</td>\n",
       "    </tr>\n",
       "    <tr>\n",
       "      <th>4</th>\n",
       "      <td>23</td>\n",
       "      <td>Scientist</td>\n",
       "      <td>19114.12</td>\n",
       "      <td>1824.843333</td>\n",
       "      <td>3</td>\n",
       "      <td>4</td>\n",
       "      <td>3</td>\n",
       "      <td>4</td>\n",
       "      <td>6</td>\n",
       "      <td>NaN</td>\n",
       "      <td>...</td>\n",
       "      <td>4.0</td>\n",
       "      <td>Good</td>\n",
       "      <td>809.98</td>\n",
       "      <td>24.797347</td>\n",
       "      <td>No</td>\n",
       "      <td>49.574949</td>\n",
       "      <td>41.420153086217326</td>\n",
       "      <td>High_spent_Medium_value_payments</td>\n",
       "      <td>341.48923103222177</td>\n",
       "      <td>Good</td>\n",
       "    </tr>\n",
       "  </tbody>\n",
       "</table>\n",
       "<p>5 rows × 21 columns</p>\n",
       "</div>"
      ],
      "text/plain": [
       "    Age Occupation Annual_Income  Monthly_Inhand_Salary  Num_Bank_Accounts  \\\n",
       "0    23  Scientist      19114.12            1824.843333                  3   \n",
       "1    23  Scientist      19114.12                    NaN                  3   \n",
       "2  -500  Scientist      19114.12                    NaN                  3   \n",
       "3    23  Scientist      19114.12                    NaN                  3   \n",
       "4    23  Scientist      19114.12            1824.843333                  3   \n",
       "\n",
       "   Num_Credit_Card  Interest_Rate Num_of_Loan  Delay_from_due_date  \\\n",
       "0                4              3           4                    3   \n",
       "1                4              3           4                   -1   \n",
       "2                4              3           4                    3   \n",
       "3                4              3           4                    5   \n",
       "4                4              3           4                    6   \n",
       "\n",
       "  Num_of_Delayed_Payment  ... Num_Credit_Inquiries  Credit_Mix  \\\n",
       "0                      7  ...                  4.0           _   \n",
       "1                    NaN  ...                  4.0        Good   \n",
       "2                      7  ...                  4.0        Good   \n",
       "3                      4  ...                  4.0        Good   \n",
       "4                    NaN  ...                  4.0        Good   \n",
       "\n",
       "  Outstanding_Debt Credit_Utilization_Ratio  Payment_of_Min_Amount  \\\n",
       "0           809.98                26.822620                     No   \n",
       "1           809.98                31.944960                     No   \n",
       "2           809.98                28.609352                     No   \n",
       "3           809.98                31.377862                     No   \n",
       "4           809.98                24.797347                     No   \n",
       "\n",
       "  Total_EMI_per_month  Amount_invested_monthly  \\\n",
       "0           49.574949        80.41529543900253   \n",
       "1           49.574949       118.28022162236736   \n",
       "2           49.574949          81.699521264648   \n",
       "3           49.574949        199.4580743910713   \n",
       "4           49.574949       41.420153086217326   \n",
       "\n",
       "                  Payment_Behaviour     Monthly_Balance Credit_Score  \n",
       "0   High_spent_Small_value_payments  312.49408867943663         Good  \n",
       "1    Low_spent_Large_value_payments  284.62916249607184         Good  \n",
       "2   Low_spent_Medium_value_payments   331.2098628537912         Good  \n",
       "3    Low_spent_Small_value_payments  223.45130972736786         Good  \n",
       "4  High_spent_Medium_value_payments  341.48923103222177         Good  \n",
       "\n",
       "[5 rows x 21 columns]"
      ]
     },
     "execution_count": 16,
     "metadata": {},
     "output_type": "execute_result"
    }
   ],
   "source": [
    "train_df.head()"
   ]
  },
  {
   "cell_type": "code",
   "execution_count": 17,
   "id": "2a4a7cd1",
   "metadata": {
    "execution": {
     "iopub.execute_input": "2022-12-15T11:09:51.907448Z",
     "iopub.status.busy": "2022-12-15T11:09:51.906751Z",
     "iopub.status.idle": "2022-12-15T11:09:52.006755Z",
     "shell.execute_reply": "2022-12-15T11:09:52.005247Z"
    },
    "papermill": {
     "duration": 0.122428,
     "end_time": "2022-12-15T11:09:52.009733",
     "exception": false,
     "start_time": "2022-12-15T11:09:51.887305",
     "status": "completed"
    },
    "tags": []
   },
   "outputs": [],
   "source": [
    "train_df[\"Amount_invested_monthly\"]=train_df[\"Amount_invested_monthly\"].apply(Amount_invested_monthly)\n",
    "train_df[\"Amount_invested_monthly\"]=train_df[\"Amount_invested_monthly\"].astype(\"float\")"
   ]
  },
  {
   "cell_type": "code",
   "execution_count": 18,
   "id": "a7644691",
   "metadata": {
    "execution": {
     "iopub.execute_input": "2022-12-15T11:09:52.047089Z",
     "iopub.status.busy": "2022-12-15T11:09:52.046611Z",
     "iopub.status.idle": "2022-12-15T11:09:52.115610Z",
     "shell.execute_reply": "2022-12-15T11:09:52.113483Z"
    },
    "papermill": {
     "duration": 0.091063,
     "end_time": "2022-12-15T11:09:52.118575",
     "exception": false,
     "start_time": "2022-12-15T11:09:52.027512",
     "status": "completed"
    },
    "tags": []
   },
   "outputs": [
    {
     "name": "stdout",
     "output_type": "stream",
     "text": [
      "<class 'pandas.core.frame.DataFrame'>\n",
      "RangeIndex: 100000 entries, 0 to 99999\n",
      "Data columns (total 21 columns):\n",
      " #   Column                    Non-Null Count   Dtype  \n",
      "---  ------                    --------------   -----  \n",
      " 0   Age                       100000 non-null  object \n",
      " 1   Occupation                100000 non-null  object \n",
      " 2   Annual_Income             100000 non-null  object \n",
      " 3   Monthly_Inhand_Salary     84998 non-null   float64\n",
      " 4   Num_Bank_Accounts         100000 non-null  int64  \n",
      " 5   Num_Credit_Card           100000 non-null  int64  \n",
      " 6   Interest_Rate             100000 non-null  int64  \n",
      " 7   Num_of_Loan               100000 non-null  object \n",
      " 8   Delay_from_due_date       100000 non-null  int64  \n",
      " 9   Num_of_Delayed_Payment    92998 non-null   object \n",
      " 10  Changed_Credit_Limit      100000 non-null  object \n",
      " 11  Num_Credit_Inquiries      98035 non-null   float64\n",
      " 12  Credit_Mix                100000 non-null  object \n",
      " 13  Outstanding_Debt          100000 non-null  object \n",
      " 14  Credit_Utilization_Ratio  100000 non-null  float64\n",
      " 15  Payment_of_Min_Amount     100000 non-null  object \n",
      " 16  Total_EMI_per_month       100000 non-null  float64\n",
      " 17  Amount_invested_monthly   95521 non-null   float64\n",
      " 18  Payment_Behaviour         100000 non-null  object \n",
      " 19  Monthly_Balance           98800 non-null   object \n",
      " 20  Credit_Score              100000 non-null  object \n",
      "dtypes: float64(5), int64(4), object(12)\n",
      "memory usage: 16.0+ MB\n"
     ]
    }
   ],
   "source": [
    "train_df.info()"
   ]
  },
  {
   "cell_type": "code",
   "execution_count": 19,
   "id": "acd40d51",
   "metadata": {
    "execution": {
     "iopub.execute_input": "2022-12-15T11:09:52.156355Z",
     "iopub.status.busy": "2022-12-15T11:09:52.155896Z",
     "iopub.status.idle": "2022-12-15T11:09:52.256316Z",
     "shell.execute_reply": "2022-12-15T11:09:52.255042Z"
    },
    "papermill": {
     "duration": 0.122634,
     "end_time": "2022-12-15T11:09:52.259190",
     "exception": false,
     "start_time": "2022-12-15T11:09:52.136556",
     "status": "completed"
    },
    "tags": []
   },
   "outputs": [],
   "source": [
    "train_df[\"Changed_Credit_Limit\"]=train_df[\"Changed_Credit_Limit\"].apply(lambda x:x.split(\"-\")[-1])\n",
    "train_df.drop(train_df[train_df[\"Changed_Credit_Limit\"]==\"_\"].index,inplace=True)\n",
    "train_df[\"Changed_Credit_Limit\"]=train_df[\"Changed_Credit_Limit\"].astype(\"float\")"
   ]
  },
  {
   "cell_type": "code",
   "execution_count": 20,
   "id": "b83f764c",
   "metadata": {
    "execution": {
     "iopub.execute_input": "2022-12-15T11:09:52.297437Z",
     "iopub.status.busy": "2022-12-15T11:09:52.296993Z",
     "iopub.status.idle": "2022-12-15T11:09:52.766204Z",
     "shell.execute_reply": "2022-12-15T11:09:52.764465Z"
    },
    "papermill": {
     "duration": 0.492778,
     "end_time": "2022-12-15T11:09:52.769593",
     "exception": false,
     "start_time": "2022-12-15T11:09:52.276815",
     "status": "completed"
    },
    "tags": []
   },
   "outputs": [
    {
     "name": "stdout",
     "output_type": "stream",
     "text": [
      "Age Successfully Cleaned\n",
      "Annual_Income Successfully Cleaned\n",
      "Num_of_Loan Successfully Cleaned\n",
      "Outstanding_Debt Successfully Cleaned\n",
      "Monthly_Balance Successfully Cleaned\n"
     ]
    }
   ],
   "source": [
    "train_df.drop(train_df[train_df[\"Monthly_Balance\"]=='__-333333333333333333333333333__'].index,inplace=True)\n",
    "for i in ['Age', 'Annual_Income', 'Num_of_Loan', 'Outstanding_Debt', 'Monthly_Balance']:\n",
    "    train_df[i] = train_df[i].apply(filter_general)\n",
    "    train_df[i] = train_df[i].astype(np.float64)\n",
    "    print(i + \" Successfully Cleaned\")"
   ]
  },
  {
   "cell_type": "code",
   "execution_count": 21,
   "id": "fb1af784",
   "metadata": {
    "execution": {
     "iopub.execute_input": "2022-12-15T11:09:52.807530Z",
     "iopub.status.busy": "2022-12-15T11:09:52.807082Z",
     "iopub.status.idle": "2022-12-15T11:09:52.909013Z",
     "shell.execute_reply": "2022-12-15T11:09:52.907869Z"
    },
    "papermill": {
     "duration": 0.124451,
     "end_time": "2022-12-15T11:09:52.912360",
     "exception": false,
     "start_time": "2022-12-15T11:09:52.787909",
     "status": "completed"
    },
    "tags": []
   },
   "outputs": [],
   "source": [
    "train_df['Num_of_Delayed_Payment'] = train_df['Num_of_Delayed_Payment'].apply(filter_delayed_payments)\n",
    "train_df['Num_of_Delayed_Payment'] = train_df['Num_of_Delayed_Payment'].astype(np.float64)"
   ]
  },
  {
   "cell_type": "code",
   "execution_count": 22,
   "id": "200eef8e",
   "metadata": {
    "execution": {
     "iopub.execute_input": "2022-12-15T11:09:52.951081Z",
     "iopub.status.busy": "2022-12-15T11:09:52.950654Z",
     "iopub.status.idle": "2022-12-15T11:09:52.971060Z",
     "shell.execute_reply": "2022-12-15T11:09:52.969785Z"
    },
    "papermill": {
     "duration": 0.04311,
     "end_time": "2022-12-15T11:09:52.973952",
     "exception": false,
     "start_time": "2022-12-15T11:09:52.930842",
     "status": "completed"
    },
    "tags": []
   },
   "outputs": [],
   "source": [
    "train_df['Occupation'] = train_df['Occupation'].replace('_______', np.nan)\n",
    "train_df['Occupation'] = train_df['Occupation'].fillna(np.random.choice(pd.Series(['Scientist', 'Teacher', 'Engineer', 'Entrepreneur',\n",
    "       'Developer', 'Lawyer', 'Media_Manager', 'Doctor', 'Journalist',\n",
    "       'Manager', 'Accountant', 'Musician', 'Mechanic', 'Writer',\n",
    "       'Architect'])))"
   ]
  },
  {
   "cell_type": "code",
   "execution_count": 23,
   "id": "ad0ef4b3",
   "metadata": {
    "execution": {
     "iopub.execute_input": "2022-12-15T11:09:53.011582Z",
     "iopub.status.busy": "2022-12-15T11:09:53.011135Z",
     "iopub.status.idle": "2022-12-15T11:09:53.031100Z",
     "shell.execute_reply": "2022-12-15T11:09:53.029735Z"
    },
    "papermill": {
     "duration": 0.042246,
     "end_time": "2022-12-15T11:09:53.033841",
     "exception": false,
     "start_time": "2022-12-15T11:09:52.991595",
     "status": "completed"
    },
    "tags": []
   },
   "outputs": [],
   "source": [
    "train_df['Credit_Mix'] = train_df['Credit_Mix'].replace('_', np.nan)\n",
    "train_df['Credit_Mix'] = train_df['Credit_Mix'].fillna(np.random.choice(pd.Series(['Standard', 'Good', 'Bad'])))"
   ]
  },
  {
   "cell_type": "code",
   "execution_count": 24,
   "id": "9c57a1d4",
   "metadata": {
    "execution": {
     "iopub.execute_input": "2022-12-15T11:09:53.072449Z",
     "iopub.status.busy": "2022-12-15T11:09:53.071961Z",
     "iopub.status.idle": "2022-12-15T11:09:53.092279Z",
     "shell.execute_reply": "2022-12-15T11:09:53.090823Z"
    },
    "papermill": {
     "duration": 0.042729,
     "end_time": "2022-12-15T11:09:53.095231",
     "exception": false,
     "start_time": "2022-12-15T11:09:53.052502",
     "status": "completed"
    },
    "tags": []
   },
   "outputs": [],
   "source": [
    "train_df['Payment_of_Min_Amount'] = train_df['Payment_of_Min_Amount'].replace('NM', np.nan)\n",
    "train_df['Payment_of_Min_Amount'] = train_df['Payment_of_Min_Amount'].fillna(np.random.choice(pd.Series(['Yes', 'No'])))"
   ]
  },
  {
   "cell_type": "code",
   "execution_count": 25,
   "id": "0ceb43e5",
   "metadata": {
    "execution": {
     "iopub.execute_input": "2022-12-15T11:09:53.132935Z",
     "iopub.status.busy": "2022-12-15T11:09:53.132492Z",
     "iopub.status.idle": "2022-12-15T11:09:53.151856Z",
     "shell.execute_reply": "2022-12-15T11:09:53.150572Z"
    },
    "papermill": {
     "duration": 0.041436,
     "end_time": "2022-12-15T11:09:53.154659",
     "exception": false,
     "start_time": "2022-12-15T11:09:53.113223",
     "status": "completed"
    },
    "tags": []
   },
   "outputs": [],
   "source": [
    "train_df['Payment_Behaviour'] = train_df['Payment_Behaviour'].replace('!@9#%8', np.nan)\n",
    "train_df['Payment_Behaviour'] = train_df['Payment_Behaviour'].fillna(np.random.choice(pd.Series(['High_spent_Small_value_payments',\n",
    "       'Low_spent_Large_value_payments', 'Low_spent_Small_value_payments',\n",
    "       'High_spent_Medium_value_payments',\n",
    "       'High_spent_Large_value_payments',\n",
    "       'Low_spent_Medium_value_payments'])))"
   ]
  },
  {
   "cell_type": "code",
   "execution_count": 26,
   "id": "b7106e91",
   "metadata": {
    "execution": {
     "iopub.execute_input": "2022-12-15T11:09:53.191540Z",
     "iopub.status.busy": "2022-12-15T11:09:53.191097Z",
     "iopub.status.idle": "2022-12-15T11:09:53.209889Z",
     "shell.execute_reply": "2022-12-15T11:09:53.208702Z"
    },
    "papermill": {
     "duration": 0.040751,
     "end_time": "2022-12-15T11:09:53.212882",
     "exception": false,
     "start_time": "2022-12-15T11:09:53.172131",
     "status": "completed"
    },
    "tags": []
   },
   "outputs": [],
   "source": [
    "for i in ['Monthly_Inhand_Salary', 'Num_of_Delayed_Payment', 'Num_Credit_Inquiries', 'Amount_invested_monthly']:\n",
    "    train_df[i].fillna(train_df[i].median(), inplace=True)"
   ]
  },
  {
   "cell_type": "code",
   "execution_count": 27,
   "id": "74570fce",
   "metadata": {
    "execution": {
     "iopub.execute_input": "2022-12-15T11:09:53.252622Z",
     "iopub.status.busy": "2022-12-15T11:09:53.252159Z",
     "iopub.status.idle": "2022-12-15T11:09:53.261532Z",
     "shell.execute_reply": "2022-12-15T11:09:53.260266Z"
    },
    "papermill": {
     "duration": 0.031155,
     "end_time": "2022-12-15T11:09:53.264258",
     "exception": false,
     "start_time": "2022-12-15T11:09:53.233103",
     "status": "completed"
    },
    "tags": []
   },
   "outputs": [],
   "source": [
    "train_df['Monthly_Balance'].fillna(train_df['Monthly_Balance'].median(), inplace=True)"
   ]
  },
  {
   "cell_type": "code",
   "execution_count": 28,
   "id": "b62ada1d",
   "metadata": {
    "execution": {
     "iopub.execute_input": "2022-12-15T11:09:53.303278Z",
     "iopub.status.busy": "2022-12-15T11:09:53.302278Z",
     "iopub.status.idle": "2022-12-15T11:09:53.334125Z",
     "shell.execute_reply": "2022-12-15T11:09:53.332902Z"
    },
    "papermill": {
     "duration": 0.05387,
     "end_time": "2022-12-15T11:09:53.336446",
     "exception": false,
     "start_time": "2022-12-15T11:09:53.282576",
     "status": "completed"
    },
    "tags": []
   },
   "outputs": [
    {
     "data": {
      "text/html": [
       "<div>\n",
       "<style scoped>\n",
       "    .dataframe tbody tr th:only-of-type {\n",
       "        vertical-align: middle;\n",
       "    }\n",
       "\n",
       "    .dataframe tbody tr th {\n",
       "        vertical-align: top;\n",
       "    }\n",
       "\n",
       "    .dataframe thead th {\n",
       "        text-align: right;\n",
       "    }\n",
       "</style>\n",
       "<table border=\"1\" class=\"dataframe\">\n",
       "  <thead>\n",
       "    <tr style=\"text-align: right;\">\n",
       "      <th></th>\n",
       "      <th>Age</th>\n",
       "      <th>Occupation</th>\n",
       "      <th>Annual_Income</th>\n",
       "      <th>Monthly_Inhand_Salary</th>\n",
       "      <th>Num_Bank_Accounts</th>\n",
       "      <th>Num_Credit_Card</th>\n",
       "      <th>Interest_Rate</th>\n",
       "      <th>Num_of_Loan</th>\n",
       "      <th>Delay_from_due_date</th>\n",
       "      <th>Num_of_Delayed_Payment</th>\n",
       "      <th>...</th>\n",
       "      <th>Num_Credit_Inquiries</th>\n",
       "      <th>Credit_Mix</th>\n",
       "      <th>Outstanding_Debt</th>\n",
       "      <th>Credit_Utilization_Ratio</th>\n",
       "      <th>Payment_of_Min_Amount</th>\n",
       "      <th>Total_EMI_per_month</th>\n",
       "      <th>Amount_invested_monthly</th>\n",
       "      <th>Payment_Behaviour</th>\n",
       "      <th>Monthly_Balance</th>\n",
       "      <th>Credit_Score</th>\n",
       "    </tr>\n",
       "  </thead>\n",
       "  <tbody>\n",
       "    <tr>\n",
       "      <th>0</th>\n",
       "      <td>23.0</td>\n",
       "      <td>Scientist</td>\n",
       "      <td>19114.12</td>\n",
       "      <td>1824.843333</td>\n",
       "      <td>3</td>\n",
       "      <td>4</td>\n",
       "      <td>3</td>\n",
       "      <td>4.0</td>\n",
       "      <td>3</td>\n",
       "      <td>7.0</td>\n",
       "      <td>...</td>\n",
       "      <td>4.0</td>\n",
       "      <td>Standard</td>\n",
       "      <td>809.98</td>\n",
       "      <td>26.822620</td>\n",
       "      <td>No</td>\n",
       "      <td>49.574949</td>\n",
       "      <td>80.415295</td>\n",
       "      <td>High_spent_Small_value_payments</td>\n",
       "      <td>312.494089</td>\n",
       "      <td>Good</td>\n",
       "    </tr>\n",
       "    <tr>\n",
       "      <th>1</th>\n",
       "      <td>23.0</td>\n",
       "      <td>Scientist</td>\n",
       "      <td>19114.12</td>\n",
       "      <td>3091.260833</td>\n",
       "      <td>3</td>\n",
       "      <td>4</td>\n",
       "      <td>3</td>\n",
       "      <td>4.0</td>\n",
       "      <td>-1</td>\n",
       "      <td>14.0</td>\n",
       "      <td>...</td>\n",
       "      <td>4.0</td>\n",
       "      <td>Good</td>\n",
       "      <td>809.98</td>\n",
       "      <td>31.944960</td>\n",
       "      <td>No</td>\n",
       "      <td>49.574949</td>\n",
       "      <td>118.280222</td>\n",
       "      <td>Low_spent_Large_value_payments</td>\n",
       "      <td>284.629162</td>\n",
       "      <td>Good</td>\n",
       "    </tr>\n",
       "    <tr>\n",
       "      <th>3</th>\n",
       "      <td>23.0</td>\n",
       "      <td>Scientist</td>\n",
       "      <td>19114.12</td>\n",
       "      <td>3091.260833</td>\n",
       "      <td>3</td>\n",
       "      <td>4</td>\n",
       "      <td>3</td>\n",
       "      <td>4.0</td>\n",
       "      <td>5</td>\n",
       "      <td>4.0</td>\n",
       "      <td>...</td>\n",
       "      <td>4.0</td>\n",
       "      <td>Good</td>\n",
       "      <td>809.98</td>\n",
       "      <td>31.377862</td>\n",
       "      <td>No</td>\n",
       "      <td>49.574949</td>\n",
       "      <td>199.458074</td>\n",
       "      <td>Low_spent_Small_value_payments</td>\n",
       "      <td>223.451310</td>\n",
       "      <td>Good</td>\n",
       "    </tr>\n",
       "    <tr>\n",
       "      <th>4</th>\n",
       "      <td>23.0</td>\n",
       "      <td>Scientist</td>\n",
       "      <td>19114.12</td>\n",
       "      <td>1824.843333</td>\n",
       "      <td>3</td>\n",
       "      <td>4</td>\n",
       "      <td>3</td>\n",
       "      <td>4.0</td>\n",
       "      <td>6</td>\n",
       "      <td>14.0</td>\n",
       "      <td>...</td>\n",
       "      <td>4.0</td>\n",
       "      <td>Good</td>\n",
       "      <td>809.98</td>\n",
       "      <td>24.797347</td>\n",
       "      <td>No</td>\n",
       "      <td>49.574949</td>\n",
       "      <td>41.420153</td>\n",
       "      <td>High_spent_Medium_value_payments</td>\n",
       "      <td>341.489231</td>\n",
       "      <td>Good</td>\n",
       "    </tr>\n",
       "    <tr>\n",
       "      <th>5</th>\n",
       "      <td>23.0</td>\n",
       "      <td>Scientist</td>\n",
       "      <td>19114.12</td>\n",
       "      <td>3091.260833</td>\n",
       "      <td>3</td>\n",
       "      <td>4</td>\n",
       "      <td>3</td>\n",
       "      <td>4.0</td>\n",
       "      <td>8</td>\n",
       "      <td>4.0</td>\n",
       "      <td>...</td>\n",
       "      <td>4.0</td>\n",
       "      <td>Good</td>\n",
       "      <td>809.98</td>\n",
       "      <td>27.262259</td>\n",
       "      <td>No</td>\n",
       "      <td>49.574949</td>\n",
       "      <td>62.430172</td>\n",
       "      <td>Low_spent_Large_value_payments</td>\n",
       "      <td>340.479212</td>\n",
       "      <td>Good</td>\n",
       "    </tr>\n",
       "  </tbody>\n",
       "</table>\n",
       "<p>5 rows × 21 columns</p>\n",
       "</div>"
      ],
      "text/plain": [
       "    Age Occupation  Annual_Income  Monthly_Inhand_Salary  Num_Bank_Accounts  \\\n",
       "0  23.0  Scientist       19114.12            1824.843333                  3   \n",
       "1  23.0  Scientist       19114.12            3091.260833                  3   \n",
       "3  23.0  Scientist       19114.12            3091.260833                  3   \n",
       "4  23.0  Scientist       19114.12            1824.843333                  3   \n",
       "5  23.0  Scientist       19114.12            3091.260833                  3   \n",
       "\n",
       "   Num_Credit_Card  Interest_Rate  Num_of_Loan  Delay_from_due_date  \\\n",
       "0                4              3          4.0                    3   \n",
       "1                4              3          4.0                   -1   \n",
       "3                4              3          4.0                    5   \n",
       "4                4              3          4.0                    6   \n",
       "5                4              3          4.0                    8   \n",
       "\n",
       "   Num_of_Delayed_Payment  ...  Num_Credit_Inquiries  Credit_Mix  \\\n",
       "0                     7.0  ...                   4.0    Standard   \n",
       "1                    14.0  ...                   4.0        Good   \n",
       "3                     4.0  ...                   4.0        Good   \n",
       "4                    14.0  ...                   4.0        Good   \n",
       "5                     4.0  ...                   4.0        Good   \n",
       "\n",
       "  Outstanding_Debt  Credit_Utilization_Ratio  Payment_of_Min_Amount  \\\n",
       "0           809.98                 26.822620                     No   \n",
       "1           809.98                 31.944960                     No   \n",
       "3           809.98                 31.377862                     No   \n",
       "4           809.98                 24.797347                     No   \n",
       "5           809.98                 27.262259                     No   \n",
       "\n",
       "  Total_EMI_per_month  Amount_invested_monthly  \\\n",
       "0           49.574949                80.415295   \n",
       "1           49.574949               118.280222   \n",
       "3           49.574949               199.458074   \n",
       "4           49.574949                41.420153   \n",
       "5           49.574949                62.430172   \n",
       "\n",
       "                  Payment_Behaviour Monthly_Balance  Credit_Score  \n",
       "0   High_spent_Small_value_payments      312.494089          Good  \n",
       "1    Low_spent_Large_value_payments      284.629162          Good  \n",
       "3    Low_spent_Small_value_payments      223.451310          Good  \n",
       "4  High_spent_Medium_value_payments      341.489231          Good  \n",
       "5    Low_spent_Large_value_payments      340.479212          Good  \n",
       "\n",
       "[5 rows x 21 columns]"
      ]
     },
     "execution_count": 28,
     "metadata": {},
     "output_type": "execute_result"
    }
   ],
   "source": [
    "train_df.head()"
   ]
  },
  {
   "cell_type": "code",
   "execution_count": 29,
   "id": "f749b62e",
   "metadata": {
    "execution": {
     "iopub.execute_input": "2022-12-15T11:10:05.076608Z",
     "iopub.status.busy": "2022-12-15T11:10:05.076121Z",
     "iopub.status.idle": "2022-12-15T11:10:05.106070Z",
     "shell.execute_reply": "2022-12-15T11:10:05.104704Z"
    },
    "papermill": {
     "duration": 0.059133,
     "end_time": "2022-12-15T11:10:05.108706",
     "exception": false,
     "start_time": "2022-12-15T11:10:05.049573",
     "status": "completed"
    },
    "tags": []
   },
   "outputs": [
    {
     "data": {
      "text/plain": [
       "Index(['Age', 'Annual_Income', 'Monthly_Inhand_Salary', 'Num_Bank_Accounts',\n",
       "       'Num_Credit_Card', 'Interest_Rate', 'Num_of_Loan',\n",
       "       'Delay_from_due_date', 'Num_of_Delayed_Payment', 'Changed_Credit_Limit',\n",
       "       'Num_Credit_Inquiries', 'Outstanding_Debt', 'Credit_Utilization_Ratio',\n",
       "       'Total_EMI_per_month', 'Amount_invested_monthly', 'Monthly_Balance'],\n",
       "      dtype='object')"
      ]
     },
     "execution_count": 29,
     "metadata": {},
     "output_type": "execute_result"
    }
   ],
   "source": [
    "numeric_cols = train_df.select_dtypes(exclude = \"object\").columns\n",
    "cat_cols = test_df.select_dtypes(include = \"object\").columns\n",
    "numeric_cols"
   ]
  },
  {
   "cell_type": "code",
   "execution_count": 30,
   "id": "7c4932d7",
   "metadata": {
    "execution": {
     "iopub.execute_input": "2022-12-15T11:10:05.158581Z",
     "iopub.status.busy": "2022-12-15T11:10:05.158079Z",
     "iopub.status.idle": "2022-12-15T11:10:05.165995Z",
     "shell.execute_reply": "2022-12-15T11:10:05.164846Z"
    },
    "papermill": {
     "duration": 0.035508,
     "end_time": "2022-12-15T11:10:05.168231",
     "exception": false,
     "start_time": "2022-12-15T11:10:05.132723",
     "status": "completed"
    },
    "tags": []
   },
   "outputs": [
    {
     "data": {
      "text/plain": [
       "Index(['ID', 'Customer_ID', 'Month', 'Name', 'Age', 'SSN', 'Occupation',\n",
       "       'Annual_Income', 'Num_of_Loan', 'Type_of_Loan',\n",
       "       'Num_of_Delayed_Payment', 'Changed_Credit_Limit', 'Credit_Mix',\n",
       "       'Outstanding_Debt', 'Credit_History_Age', 'Payment_of_Min_Amount',\n",
       "       'Amount_invested_monthly', 'Payment_Behaviour', 'Monthly_Balance'],\n",
       "      dtype='object')"
      ]
     },
     "execution_count": 30,
     "metadata": {},
     "output_type": "execute_result"
    }
   ],
   "source": [
    "cat_cols"
   ]
  },
  {
   "cell_type": "code",
   "execution_count": 31,
   "id": "1a398538",
   "metadata": {
    "execution": {
     "iopub.execute_input": "2022-12-15T11:10:12.992145Z",
     "iopub.status.busy": "2022-12-15T11:10:12.991225Z",
     "iopub.status.idle": "2022-12-15T11:10:12.997078Z",
     "shell.execute_reply": "2022-12-15T11:10:12.996108Z"
    },
    "papermill": {
     "duration": 0.038787,
     "end_time": "2022-12-15T11:10:12.999636",
     "exception": false,
     "start_time": "2022-12-15T11:10:12.960849",
     "status": "completed"
    },
    "tags": []
   },
   "outputs": [],
   "source": [
    "def RobustScaling(df_num, cols):\n",
    "    scaler = preprocessing.RobustScaler()\n",
    "    robust_df_temp = scaler.fit_transform(df_num)\n",
    "    robust_df_temp = pd.DataFrame(robust_df_temp, columns =cols)\n",
    "    return robust_df_temp"
   ]
  },
  {
   "cell_type": "code",
   "execution_count": 32,
   "id": "d8aa5aaf",
   "metadata": {
    "execution": {
     "iopub.execute_input": "2022-12-15T11:10:13.058120Z",
     "iopub.status.busy": "2022-12-15T11:10:13.056920Z",
     "iopub.status.idle": "2022-12-15T11:10:13.191479Z",
     "shell.execute_reply": "2022-12-15T11:10:13.190190Z"
    },
    "papermill": {
     "duration": 0.166356,
     "end_time": "2022-12-15T11:10:13.194364",
     "exception": false,
     "start_time": "2022-12-15T11:10:13.028008",
     "status": "completed"
    },
    "tags": []
   },
   "outputs": [],
   "source": [
    "train_df[numeric_cols] = RobustScaling(train_df[numeric_cols], numeric_cols)"
   ]
  },
  {
   "cell_type": "code",
   "execution_count": 33,
   "id": "499e5a55",
   "metadata": {
    "execution": {
     "iopub.execute_input": "2022-12-15T11:10:13.251952Z",
     "iopub.status.busy": "2022-12-15T11:10:13.251190Z",
     "iopub.status.idle": "2022-12-15T11:10:13.332763Z",
     "shell.execute_reply": "2022-12-15T11:10:13.331368Z"
    },
    "papermill": {
     "duration": 0.11365,
     "end_time": "2022-12-15T11:10:13.335512",
     "exception": false,
     "start_time": "2022-12-15T11:10:13.221862",
     "status": "completed"
    },
    "tags": []
   },
   "outputs": [
    {
     "data": {
      "text/html": [
       "<div>\n",
       "<style scoped>\n",
       "    .dataframe tbody tr th:only-of-type {\n",
       "        vertical-align: middle;\n",
       "    }\n",
       "\n",
       "    .dataframe tbody tr th {\n",
       "        vertical-align: top;\n",
       "    }\n",
       "\n",
       "    .dataframe thead th {\n",
       "        text-align: right;\n",
       "    }\n",
       "</style>\n",
       "<table border=\"1\" class=\"dataframe\">\n",
       "  <thead>\n",
       "    <tr style=\"text-align: right;\">\n",
       "      <th></th>\n",
       "      <th>Age</th>\n",
       "      <th>Occupation</th>\n",
       "      <th>Annual_Income</th>\n",
       "      <th>Monthly_Inhand_Salary</th>\n",
       "      <th>Num_Bank_Accounts</th>\n",
       "      <th>Num_Credit_Card</th>\n",
       "      <th>Interest_Rate</th>\n",
       "      <th>Num_of_Loan</th>\n",
       "      <th>Delay_from_due_date</th>\n",
       "      <th>Num_of_Delayed_Payment</th>\n",
       "      <th>...</th>\n",
       "      <th>Num_Credit_Inquiries</th>\n",
       "      <th>Credit_Mix</th>\n",
       "      <th>Outstanding_Debt</th>\n",
       "      <th>Credit_Utilization_Ratio</th>\n",
       "      <th>Payment_of_Min_Amount</th>\n",
       "      <th>Total_EMI_per_month</th>\n",
       "      <th>Amount_invested_monthly</th>\n",
       "      <th>Payment_Behaviour</th>\n",
       "      <th>Monthly_Balance</th>\n",
       "      <th>Credit_Score</th>\n",
       "    </tr>\n",
       "  </thead>\n",
       "  <tbody>\n",
       "    <tr>\n",
       "      <th>0</th>\n",
       "      <td>-0.647059</td>\n",
       "      <td>Scientist</td>\n",
       "      <td>-0.346184</td>\n",
       "      <td>-0.353833</td>\n",
       "      <td>-0.75</td>\n",
       "      <td>-0.333333</td>\n",
       "      <td>-0.833333</td>\n",
       "      <td>0.25</td>\n",
       "      <td>-0.833333</td>\n",
       "      <td>-0.777778</td>\n",
       "      <td>...</td>\n",
       "      <td>-0.333333</td>\n",
       "      <td>Standard</td>\n",
       "      <td>-0.258117</td>\n",
       "      <td>-0.648868</td>\n",
       "      <td>No</td>\n",
       "      <td>-0.150195</td>\n",
       "      <td>-0.311222</td>\n",
       "      <td>High_spent_Small_value_payments</td>\n",
       "      <td>-0.122904</td>\n",
       "      <td>Good</td>\n",
       "    </tr>\n",
       "    <tr>\n",
       "      <th>1</th>\n",
       "      <td>-0.647059</td>\n",
       "      <td>Scientist</td>\n",
       "      <td>-0.346184</td>\n",
       "      <td>0.000000</td>\n",
       "      <td>-0.75</td>\n",
       "      <td>-0.333333</td>\n",
       "      <td>-0.833333</td>\n",
       "      <td>0.25</td>\n",
       "      <td>-1.055556</td>\n",
       "      <td>0.000000</td>\n",
       "      <td>...</td>\n",
       "      <td>-0.333333</td>\n",
       "      <td>Good</td>\n",
       "      <td>-0.258117</td>\n",
       "      <td>-0.042096</td>\n",
       "      <td>No</td>\n",
       "      <td>-0.150195</td>\n",
       "      <td>-0.098445</td>\n",
       "      <td>Low_spent_Large_value_payments</td>\n",
       "      <td>-0.264738</td>\n",
       "      <td>Good</td>\n",
       "    </tr>\n",
       "    <tr>\n",
       "      <th>3</th>\n",
       "      <td>-0.647059</td>\n",
       "      <td>Scientist</td>\n",
       "      <td>-0.346184</td>\n",
       "      <td>-0.353833</td>\n",
       "      <td>-0.75</td>\n",
       "      <td>-0.333333</td>\n",
       "      <td>-0.833333</td>\n",
       "      <td>0.25</td>\n",
       "      <td>-0.666667</td>\n",
       "      <td>0.000000</td>\n",
       "      <td>...</td>\n",
       "      <td>-0.333333</td>\n",
       "      <td>Good</td>\n",
       "      <td>-0.258117</td>\n",
       "      <td>-0.888774</td>\n",
       "      <td>No</td>\n",
       "      <td>-0.150195</td>\n",
       "      <td>-0.530350</td>\n",
       "      <td>Low_spent_Small_value_payments</td>\n",
       "      <td>0.024683</td>\n",
       "      <td>Good</td>\n",
       "    </tr>\n",
       "    <tr>\n",
       "      <th>4</th>\n",
       "      <td>-0.647059</td>\n",
       "      <td>Scientist</td>\n",
       "      <td>-0.346184</td>\n",
       "      <td>0.000000</td>\n",
       "      <td>-0.75</td>\n",
       "      <td>-0.333333</td>\n",
       "      <td>-0.833333</td>\n",
       "      <td>0.25</td>\n",
       "      <td>-0.555556</td>\n",
       "      <td>-1.111111</td>\n",
       "      <td>...</td>\n",
       "      <td>-0.333333</td>\n",
       "      <td>Good</td>\n",
       "      <td>-0.258117</td>\n",
       "      <td>-0.596790</td>\n",
       "      <td>No</td>\n",
       "      <td>-0.150195</td>\n",
       "      <td>-0.412287</td>\n",
       "      <td>High_spent_Medium_value_payments</td>\n",
       "      <td>0.019542</td>\n",
       "      <td>Good</td>\n",
       "    </tr>\n",
       "    <tr>\n",
       "      <th>5</th>\n",
       "      <td>-0.647059</td>\n",
       "      <td>Scientist</td>\n",
       "      <td>-0.346184</td>\n",
       "      <td>-0.353833</td>\n",
       "      <td>-0.75</td>\n",
       "      <td>-0.333333</td>\n",
       "      <td>-0.833333</td>\n",
       "      <td>0.25</td>\n",
       "      <td>-0.833333</td>\n",
       "      <td>-0.666667</td>\n",
       "      <td>...</td>\n",
       "      <td>-0.333333</td>\n",
       "      <td>Good</td>\n",
       "      <td>-0.258117</td>\n",
       "      <td>-1.156456</td>\n",
       "      <td>No</td>\n",
       "      <td>-0.150195</td>\n",
       "      <td>0.239076</td>\n",
       "      <td>Low_spent_Large_value_payments</td>\n",
       "      <td>-0.468666</td>\n",
       "      <td>Good</td>\n",
       "    </tr>\n",
       "    <tr>\n",
       "      <th>...</th>\n",
       "      <td>...</td>\n",
       "      <td>...</td>\n",
       "      <td>...</td>\n",
       "      <td>...</td>\n",
       "      <td>...</td>\n",
       "      <td>...</td>\n",
       "      <td>...</td>\n",
       "      <td>...</td>\n",
       "      <td>...</td>\n",
       "      <td>...</td>\n",
       "      <td>...</td>\n",
       "      <td>...</td>\n",
       "      <td>...</td>\n",
       "      <td>...</td>\n",
       "      <td>...</td>\n",
       "      <td>...</td>\n",
       "      <td>...</td>\n",
       "      <td>...</td>\n",
       "      <td>...</td>\n",
       "      <td>...</td>\n",
       "      <td>...</td>\n",
       "    </tr>\n",
       "    <tr>\n",
       "      <th>99995</th>\n",
       "      <td>NaN</td>\n",
       "      <td>Mechanic</td>\n",
       "      <td>NaN</td>\n",
       "      <td>NaN</td>\n",
       "      <td>NaN</td>\n",
       "      <td>NaN</td>\n",
       "      <td>NaN</td>\n",
       "      <td>NaN</td>\n",
       "      <td>NaN</td>\n",
       "      <td>NaN</td>\n",
       "      <td>...</td>\n",
       "      <td>NaN</td>\n",
       "      <td>Standard</td>\n",
       "      <td>NaN</td>\n",
       "      <td>NaN</td>\n",
       "      <td>No</td>\n",
       "      <td>NaN</td>\n",
       "      <td>NaN</td>\n",
       "      <td>High_spent_Large_value_payments</td>\n",
       "      <td>NaN</td>\n",
       "      <td>Poor</td>\n",
       "    </tr>\n",
       "    <tr>\n",
       "      <th>99996</th>\n",
       "      <td>NaN</td>\n",
       "      <td>Mechanic</td>\n",
       "      <td>NaN</td>\n",
       "      <td>NaN</td>\n",
       "      <td>NaN</td>\n",
       "      <td>NaN</td>\n",
       "      <td>NaN</td>\n",
       "      <td>NaN</td>\n",
       "      <td>NaN</td>\n",
       "      <td>NaN</td>\n",
       "      <td>...</td>\n",
       "      <td>NaN</td>\n",
       "      <td>Standard</td>\n",
       "      <td>NaN</td>\n",
       "      <td>NaN</td>\n",
       "      <td>No</td>\n",
       "      <td>NaN</td>\n",
       "      <td>NaN</td>\n",
       "      <td>High_spent_Medium_value_payments</td>\n",
       "      <td>NaN</td>\n",
       "      <td>Poor</td>\n",
       "    </tr>\n",
       "    <tr>\n",
       "      <th>99997</th>\n",
       "      <td>NaN</td>\n",
       "      <td>Mechanic</td>\n",
       "      <td>NaN</td>\n",
       "      <td>NaN</td>\n",
       "      <td>NaN</td>\n",
       "      <td>NaN</td>\n",
       "      <td>NaN</td>\n",
       "      <td>NaN</td>\n",
       "      <td>NaN</td>\n",
       "      <td>NaN</td>\n",
       "      <td>...</td>\n",
       "      <td>NaN</td>\n",
       "      <td>Good</td>\n",
       "      <td>NaN</td>\n",
       "      <td>NaN</td>\n",
       "      <td>No</td>\n",
       "      <td>NaN</td>\n",
       "      <td>NaN</td>\n",
       "      <td>High_spent_Large_value_payments</td>\n",
       "      <td>NaN</td>\n",
       "      <td>Poor</td>\n",
       "    </tr>\n",
       "    <tr>\n",
       "      <th>99998</th>\n",
       "      <td>NaN</td>\n",
       "      <td>Mechanic</td>\n",
       "      <td>NaN</td>\n",
       "      <td>NaN</td>\n",
       "      <td>NaN</td>\n",
       "      <td>NaN</td>\n",
       "      <td>NaN</td>\n",
       "      <td>NaN</td>\n",
       "      <td>NaN</td>\n",
       "      <td>NaN</td>\n",
       "      <td>...</td>\n",
       "      <td>NaN</td>\n",
       "      <td>Good</td>\n",
       "      <td>NaN</td>\n",
       "      <td>NaN</td>\n",
       "      <td>No</td>\n",
       "      <td>NaN</td>\n",
       "      <td>NaN</td>\n",
       "      <td>Low_spent_Large_value_payments</td>\n",
       "      <td>NaN</td>\n",
       "      <td>Standard</td>\n",
       "    </tr>\n",
       "    <tr>\n",
       "      <th>99999</th>\n",
       "      <td>NaN</td>\n",
       "      <td>Mechanic</td>\n",
       "      <td>NaN</td>\n",
       "      <td>NaN</td>\n",
       "      <td>NaN</td>\n",
       "      <td>NaN</td>\n",
       "      <td>NaN</td>\n",
       "      <td>NaN</td>\n",
       "      <td>NaN</td>\n",
       "      <td>NaN</td>\n",
       "      <td>...</td>\n",
       "      <td>NaN</td>\n",
       "      <td>Good</td>\n",
       "      <td>NaN</td>\n",
       "      <td>NaN</td>\n",
       "      <td>No</td>\n",
       "      <td>NaN</td>\n",
       "      <td>NaN</td>\n",
       "      <td>Low_spent_Large_value_payments</td>\n",
       "      <td>NaN</td>\n",
       "      <td>Poor</td>\n",
       "    </tr>\n",
       "  </tbody>\n",
       "</table>\n",
       "<p>97900 rows × 21 columns</p>\n",
       "</div>"
      ],
      "text/plain": [
       "            Age Occupation  Annual_Income  Monthly_Inhand_Salary  \\\n",
       "0     -0.647059  Scientist      -0.346184              -0.353833   \n",
       "1     -0.647059  Scientist      -0.346184               0.000000   \n",
       "3     -0.647059  Scientist      -0.346184              -0.353833   \n",
       "4     -0.647059  Scientist      -0.346184               0.000000   \n",
       "5     -0.647059  Scientist      -0.346184              -0.353833   \n",
       "...         ...        ...            ...                    ...   \n",
       "99995       NaN   Mechanic            NaN                    NaN   \n",
       "99996       NaN   Mechanic            NaN                    NaN   \n",
       "99997       NaN   Mechanic            NaN                    NaN   \n",
       "99998       NaN   Mechanic            NaN                    NaN   \n",
       "99999       NaN   Mechanic            NaN                    NaN   \n",
       "\n",
       "       Num_Bank_Accounts  Num_Credit_Card  Interest_Rate  Num_of_Loan  \\\n",
       "0                  -0.75        -0.333333      -0.833333         0.25   \n",
       "1                  -0.75        -0.333333      -0.833333         0.25   \n",
       "3                  -0.75        -0.333333      -0.833333         0.25   \n",
       "4                  -0.75        -0.333333      -0.833333         0.25   \n",
       "5                  -0.75        -0.333333      -0.833333         0.25   \n",
       "...                  ...              ...            ...          ...   \n",
       "99995                NaN              NaN            NaN          NaN   \n",
       "99996                NaN              NaN            NaN          NaN   \n",
       "99997                NaN              NaN            NaN          NaN   \n",
       "99998                NaN              NaN            NaN          NaN   \n",
       "99999                NaN              NaN            NaN          NaN   \n",
       "\n",
       "       Delay_from_due_date  Num_of_Delayed_Payment  ...  Num_Credit_Inquiries  \\\n",
       "0                -0.833333               -0.777778  ...             -0.333333   \n",
       "1                -1.055556                0.000000  ...             -0.333333   \n",
       "3                -0.666667                0.000000  ...             -0.333333   \n",
       "4                -0.555556               -1.111111  ...             -0.333333   \n",
       "5                -0.833333               -0.666667  ...             -0.333333   \n",
       "...                    ...                     ...  ...                   ...   \n",
       "99995                  NaN                     NaN  ...                   NaN   \n",
       "99996                  NaN                     NaN  ...                   NaN   \n",
       "99997                  NaN                     NaN  ...                   NaN   \n",
       "99998                  NaN                     NaN  ...                   NaN   \n",
       "99999                  NaN                     NaN  ...                   NaN   \n",
       "\n",
       "       Credit_Mix Outstanding_Debt  Credit_Utilization_Ratio  \\\n",
       "0        Standard        -0.258117                 -0.648868   \n",
       "1            Good        -0.258117                 -0.042096   \n",
       "3            Good        -0.258117                 -0.888774   \n",
       "4            Good        -0.258117                 -0.596790   \n",
       "5            Good        -0.258117                 -1.156456   \n",
       "...           ...              ...                       ...   \n",
       "99995    Standard              NaN                       NaN   \n",
       "99996    Standard              NaN                       NaN   \n",
       "99997        Good              NaN                       NaN   \n",
       "99998        Good              NaN                       NaN   \n",
       "99999        Good              NaN                       NaN   \n",
       "\n",
       "       Payment_of_Min_Amount Total_EMI_per_month  Amount_invested_monthly  \\\n",
       "0                         No           -0.150195                -0.311222   \n",
       "1                         No           -0.150195                -0.098445   \n",
       "3                         No           -0.150195                -0.530350   \n",
       "4                         No           -0.150195                -0.412287   \n",
       "5                         No           -0.150195                 0.239076   \n",
       "...                      ...                 ...                      ...   \n",
       "99995                     No                 NaN                      NaN   \n",
       "99996                     No                 NaN                      NaN   \n",
       "99997                     No                 NaN                      NaN   \n",
       "99998                     No                 NaN                      NaN   \n",
       "99999                     No                 NaN                      NaN   \n",
       "\n",
       "                      Payment_Behaviour Monthly_Balance  Credit_Score  \n",
       "0       High_spent_Small_value_payments       -0.122904          Good  \n",
       "1        Low_spent_Large_value_payments       -0.264738          Good  \n",
       "3        Low_spent_Small_value_payments        0.024683          Good  \n",
       "4      High_spent_Medium_value_payments        0.019542          Good  \n",
       "5        Low_spent_Large_value_payments       -0.468666          Good  \n",
       "...                                 ...             ...           ...  \n",
       "99995   High_spent_Large_value_payments             NaN          Poor  \n",
       "99996  High_spent_Medium_value_payments             NaN          Poor  \n",
       "99997   High_spent_Large_value_payments             NaN          Poor  \n",
       "99998    Low_spent_Large_value_payments             NaN      Standard  \n",
       "99999    Low_spent_Large_value_payments             NaN          Poor  \n",
       "\n",
       "[97900 rows x 21 columns]"
      ]
     },
     "execution_count": 33,
     "metadata": {},
     "output_type": "execute_result"
    }
   ],
   "source": [
    "train_df"
   ]
  },
  {
   "cell_type": "code",
   "execution_count": 34,
   "id": "4b4209ff",
   "metadata": {
    "execution": {
     "iopub.execute_input": "2022-12-15T11:10:13.396004Z",
     "iopub.status.busy": "2022-12-15T11:10:13.394743Z",
     "iopub.status.idle": "2022-12-15T11:10:13.570992Z",
     "shell.execute_reply": "2022-12-15T11:10:13.569630Z"
    },
    "papermill": {
     "duration": 0.209257,
     "end_time": "2022-12-15T11:10:13.573997",
     "exception": false,
     "start_time": "2022-12-15T11:10:13.364740",
     "status": "completed"
    },
    "tags": []
   },
   "outputs": [],
   "source": [
    "train_df['Credit_Score'].replace({\"Poor\":0, \"Standard\":1, \"Good\":2}, inplace=True)\n",
    "train_df['Credit_Mix'].replace({\"Bad\":0, \"Standard\":1, \"Good\":2}, inplace=True)\n",
    "train_df['Payment_of_Min_Amount'].replace({\"Yes\":1, \"No\":0}, inplace=True)\n",
    "train_df = pd.get_dummies(train_df, columns = ['Occupation', 'Payment_Behaviour'])"
   ]
  },
  {
   "cell_type": "code",
   "execution_count": 35,
   "id": "9cd1d98a",
   "metadata": {
    "execution": {
     "iopub.execute_input": "2022-12-15T11:10:13.632376Z",
     "iopub.status.busy": "2022-12-15T11:10:13.631925Z",
     "iopub.status.idle": "2022-12-15T11:10:13.672070Z",
     "shell.execute_reply": "2022-12-15T11:10:13.671157Z"
    },
    "papermill": {
     "duration": 0.073235,
     "end_time": "2022-12-15T11:10:13.674773",
     "exception": false,
     "start_time": "2022-12-15T11:10:13.601538",
     "status": "completed"
    },
    "tags": []
   },
   "outputs": [
    {
     "data": {
      "text/html": [
       "<div>\n",
       "<style scoped>\n",
       "    .dataframe tbody tr th:only-of-type {\n",
       "        vertical-align: middle;\n",
       "    }\n",
       "\n",
       "    .dataframe tbody tr th {\n",
       "        vertical-align: top;\n",
       "    }\n",
       "\n",
       "    .dataframe thead th {\n",
       "        text-align: right;\n",
       "    }\n",
       "</style>\n",
       "<table border=\"1\" class=\"dataframe\">\n",
       "  <thead>\n",
       "    <tr style=\"text-align: right;\">\n",
       "      <th></th>\n",
       "      <th>Age</th>\n",
       "      <th>Annual_Income</th>\n",
       "      <th>Monthly_Inhand_Salary</th>\n",
       "      <th>Num_Bank_Accounts</th>\n",
       "      <th>Num_Credit_Card</th>\n",
       "      <th>Interest_Rate</th>\n",
       "      <th>Num_of_Loan</th>\n",
       "      <th>Delay_from_due_date</th>\n",
       "      <th>Num_of_Delayed_Payment</th>\n",
       "      <th>Changed_Credit_Limit</th>\n",
       "      <th>...</th>\n",
       "      <th>Occupation_Musician</th>\n",
       "      <th>Occupation_Scientist</th>\n",
       "      <th>Occupation_Teacher</th>\n",
       "      <th>Occupation_Writer</th>\n",
       "      <th>Payment_Behaviour_High_spent_Large_value_payments</th>\n",
       "      <th>Payment_Behaviour_High_spent_Medium_value_payments</th>\n",
       "      <th>Payment_Behaviour_High_spent_Small_value_payments</th>\n",
       "      <th>Payment_Behaviour_Low_spent_Large_value_payments</th>\n",
       "      <th>Payment_Behaviour_Low_spent_Medium_value_payments</th>\n",
       "      <th>Payment_Behaviour_Low_spent_Small_value_payments</th>\n",
       "    </tr>\n",
       "  </thead>\n",
       "  <tbody>\n",
       "    <tr>\n",
       "      <th>0</th>\n",
       "      <td>-0.647059</td>\n",
       "      <td>-0.346184</td>\n",
       "      <td>-0.353833</td>\n",
       "      <td>-0.75</td>\n",
       "      <td>-0.333333</td>\n",
       "      <td>-0.833333</td>\n",
       "      <td>0.25</td>\n",
       "      <td>-0.833333</td>\n",
       "      <td>-0.777778</td>\n",
       "      <td>0.196429</td>\n",
       "      <td>...</td>\n",
       "      <td>0</td>\n",
       "      <td>1</td>\n",
       "      <td>0</td>\n",
       "      <td>0</td>\n",
       "      <td>0</td>\n",
       "      <td>0</td>\n",
       "      <td>1</td>\n",
       "      <td>0</td>\n",
       "      <td>0</td>\n",
       "      <td>0</td>\n",
       "    </tr>\n",
       "    <tr>\n",
       "      <th>1</th>\n",
       "      <td>-0.647059</td>\n",
       "      <td>-0.346184</td>\n",
       "      <td>0.000000</td>\n",
       "      <td>-0.75</td>\n",
       "      <td>-0.333333</td>\n",
       "      <td>-0.833333</td>\n",
       "      <td>0.25</td>\n",
       "      <td>-1.055556</td>\n",
       "      <td>0.000000</td>\n",
       "      <td>0.196429</td>\n",
       "      <td>...</td>\n",
       "      <td>0</td>\n",
       "      <td>1</td>\n",
       "      <td>0</td>\n",
       "      <td>0</td>\n",
       "      <td>0</td>\n",
       "      <td>0</td>\n",
       "      <td>0</td>\n",
       "      <td>1</td>\n",
       "      <td>0</td>\n",
       "      <td>0</td>\n",
       "    </tr>\n",
       "    <tr>\n",
       "      <th>3</th>\n",
       "      <td>-0.647059</td>\n",
       "      <td>-0.346184</td>\n",
       "      <td>-0.353833</td>\n",
       "      <td>-0.75</td>\n",
       "      <td>-0.333333</td>\n",
       "      <td>-0.833333</td>\n",
       "      <td>0.25</td>\n",
       "      <td>-0.666667</td>\n",
       "      <td>0.000000</td>\n",
       "      <td>0.196429</td>\n",
       "      <td>...</td>\n",
       "      <td>0</td>\n",
       "      <td>1</td>\n",
       "      <td>0</td>\n",
       "      <td>0</td>\n",
       "      <td>0</td>\n",
       "      <td>0</td>\n",
       "      <td>0</td>\n",
       "      <td>0</td>\n",
       "      <td>0</td>\n",
       "      <td>1</td>\n",
       "    </tr>\n",
       "    <tr>\n",
       "      <th>4</th>\n",
       "      <td>-0.647059</td>\n",
       "      <td>-0.346184</td>\n",
       "      <td>0.000000</td>\n",
       "      <td>-0.75</td>\n",
       "      <td>-0.333333</td>\n",
       "      <td>-0.833333</td>\n",
       "      <td>0.25</td>\n",
       "      <td>-0.555556</td>\n",
       "      <td>-1.111111</td>\n",
       "      <td>-0.013655</td>\n",
       "      <td>...</td>\n",
       "      <td>0</td>\n",
       "      <td>1</td>\n",
       "      <td>0</td>\n",
       "      <td>0</td>\n",
       "      <td>0</td>\n",
       "      <td>1</td>\n",
       "      <td>0</td>\n",
       "      <td>0</td>\n",
       "      <td>0</td>\n",
       "      <td>0</td>\n",
       "    </tr>\n",
       "    <tr>\n",
       "      <th>5</th>\n",
       "      <td>-0.647059</td>\n",
       "      <td>-0.346184</td>\n",
       "      <td>-0.353833</td>\n",
       "      <td>-0.75</td>\n",
       "      <td>-0.333333</td>\n",
       "      <td>-0.833333</td>\n",
       "      <td>0.25</td>\n",
       "      <td>-0.833333</td>\n",
       "      <td>-0.666667</td>\n",
       "      <td>0.196429</td>\n",
       "      <td>...</td>\n",
       "      <td>0</td>\n",
       "      <td>1</td>\n",
       "      <td>0</td>\n",
       "      <td>0</td>\n",
       "      <td>0</td>\n",
       "      <td>0</td>\n",
       "      <td>0</td>\n",
       "      <td>1</td>\n",
       "      <td>0</td>\n",
       "      <td>0</td>\n",
       "    </tr>\n",
       "    <tr>\n",
       "      <th>...</th>\n",
       "      <td>...</td>\n",
       "      <td>...</td>\n",
       "      <td>...</td>\n",
       "      <td>...</td>\n",
       "      <td>...</td>\n",
       "      <td>...</td>\n",
       "      <td>...</td>\n",
       "      <td>...</td>\n",
       "      <td>...</td>\n",
       "      <td>...</td>\n",
       "      <td>...</td>\n",
       "      <td>...</td>\n",
       "      <td>...</td>\n",
       "      <td>...</td>\n",
       "      <td>...</td>\n",
       "      <td>...</td>\n",
       "      <td>...</td>\n",
       "      <td>...</td>\n",
       "      <td>...</td>\n",
       "      <td>...</td>\n",
       "      <td>...</td>\n",
       "    </tr>\n",
       "    <tr>\n",
       "      <th>99995</th>\n",
       "      <td>NaN</td>\n",
       "      <td>NaN</td>\n",
       "      <td>NaN</td>\n",
       "      <td>NaN</td>\n",
       "      <td>NaN</td>\n",
       "      <td>NaN</td>\n",
       "      <td>NaN</td>\n",
       "      <td>NaN</td>\n",
       "      <td>NaN</td>\n",
       "      <td>NaN</td>\n",
       "      <td>...</td>\n",
       "      <td>0</td>\n",
       "      <td>0</td>\n",
       "      <td>0</td>\n",
       "      <td>0</td>\n",
       "      <td>1</td>\n",
       "      <td>0</td>\n",
       "      <td>0</td>\n",
       "      <td>0</td>\n",
       "      <td>0</td>\n",
       "      <td>0</td>\n",
       "    </tr>\n",
       "    <tr>\n",
       "      <th>99996</th>\n",
       "      <td>NaN</td>\n",
       "      <td>NaN</td>\n",
       "      <td>NaN</td>\n",
       "      <td>NaN</td>\n",
       "      <td>NaN</td>\n",
       "      <td>NaN</td>\n",
       "      <td>NaN</td>\n",
       "      <td>NaN</td>\n",
       "      <td>NaN</td>\n",
       "      <td>NaN</td>\n",
       "      <td>...</td>\n",
       "      <td>0</td>\n",
       "      <td>0</td>\n",
       "      <td>0</td>\n",
       "      <td>0</td>\n",
       "      <td>0</td>\n",
       "      <td>1</td>\n",
       "      <td>0</td>\n",
       "      <td>0</td>\n",
       "      <td>0</td>\n",
       "      <td>0</td>\n",
       "    </tr>\n",
       "    <tr>\n",
       "      <th>99997</th>\n",
       "      <td>NaN</td>\n",
       "      <td>NaN</td>\n",
       "      <td>NaN</td>\n",
       "      <td>NaN</td>\n",
       "      <td>NaN</td>\n",
       "      <td>NaN</td>\n",
       "      <td>NaN</td>\n",
       "      <td>NaN</td>\n",
       "      <td>NaN</td>\n",
       "      <td>NaN</td>\n",
       "      <td>...</td>\n",
       "      <td>0</td>\n",
       "      <td>0</td>\n",
       "      <td>0</td>\n",
       "      <td>0</td>\n",
       "      <td>1</td>\n",
       "      <td>0</td>\n",
       "      <td>0</td>\n",
       "      <td>0</td>\n",
       "      <td>0</td>\n",
       "      <td>0</td>\n",
       "    </tr>\n",
       "    <tr>\n",
       "      <th>99998</th>\n",
       "      <td>NaN</td>\n",
       "      <td>NaN</td>\n",
       "      <td>NaN</td>\n",
       "      <td>NaN</td>\n",
       "      <td>NaN</td>\n",
       "      <td>NaN</td>\n",
       "      <td>NaN</td>\n",
       "      <td>NaN</td>\n",
       "      <td>NaN</td>\n",
       "      <td>NaN</td>\n",
       "      <td>...</td>\n",
       "      <td>0</td>\n",
       "      <td>0</td>\n",
       "      <td>0</td>\n",
       "      <td>0</td>\n",
       "      <td>0</td>\n",
       "      <td>0</td>\n",
       "      <td>0</td>\n",
       "      <td>1</td>\n",
       "      <td>0</td>\n",
       "      <td>0</td>\n",
       "    </tr>\n",
       "    <tr>\n",
       "      <th>99999</th>\n",
       "      <td>NaN</td>\n",
       "      <td>NaN</td>\n",
       "      <td>NaN</td>\n",
       "      <td>NaN</td>\n",
       "      <td>NaN</td>\n",
       "      <td>NaN</td>\n",
       "      <td>NaN</td>\n",
       "      <td>NaN</td>\n",
       "      <td>NaN</td>\n",
       "      <td>NaN</td>\n",
       "      <td>...</td>\n",
       "      <td>0</td>\n",
       "      <td>0</td>\n",
       "      <td>0</td>\n",
       "      <td>0</td>\n",
       "      <td>0</td>\n",
       "      <td>0</td>\n",
       "      <td>0</td>\n",
       "      <td>1</td>\n",
       "      <td>0</td>\n",
       "      <td>0</td>\n",
       "    </tr>\n",
       "  </tbody>\n",
       "</table>\n",
       "<p>97900 rows × 40 columns</p>\n",
       "</div>"
      ],
      "text/plain": [
       "            Age  Annual_Income  Monthly_Inhand_Salary  Num_Bank_Accounts  \\\n",
       "0     -0.647059      -0.346184              -0.353833              -0.75   \n",
       "1     -0.647059      -0.346184               0.000000              -0.75   \n",
       "3     -0.647059      -0.346184              -0.353833              -0.75   \n",
       "4     -0.647059      -0.346184               0.000000              -0.75   \n",
       "5     -0.647059      -0.346184              -0.353833              -0.75   \n",
       "...         ...            ...                    ...                ...   \n",
       "99995       NaN            NaN                    NaN                NaN   \n",
       "99996       NaN            NaN                    NaN                NaN   \n",
       "99997       NaN            NaN                    NaN                NaN   \n",
       "99998       NaN            NaN                    NaN                NaN   \n",
       "99999       NaN            NaN                    NaN                NaN   \n",
       "\n",
       "       Num_Credit_Card  Interest_Rate  Num_of_Loan  Delay_from_due_date  \\\n",
       "0            -0.333333      -0.833333         0.25            -0.833333   \n",
       "1            -0.333333      -0.833333         0.25            -1.055556   \n",
       "3            -0.333333      -0.833333         0.25            -0.666667   \n",
       "4            -0.333333      -0.833333         0.25            -0.555556   \n",
       "5            -0.333333      -0.833333         0.25            -0.833333   \n",
       "...                ...            ...          ...                  ...   \n",
       "99995              NaN            NaN          NaN                  NaN   \n",
       "99996              NaN            NaN          NaN                  NaN   \n",
       "99997              NaN            NaN          NaN                  NaN   \n",
       "99998              NaN            NaN          NaN                  NaN   \n",
       "99999              NaN            NaN          NaN                  NaN   \n",
       "\n",
       "       Num_of_Delayed_Payment  Changed_Credit_Limit  ...  Occupation_Musician  \\\n",
       "0                   -0.777778              0.196429  ...                    0   \n",
       "1                    0.000000              0.196429  ...                    0   \n",
       "3                    0.000000              0.196429  ...                    0   \n",
       "4                   -1.111111             -0.013655  ...                    0   \n",
       "5                   -0.666667              0.196429  ...                    0   \n",
       "...                       ...                   ...  ...                  ...   \n",
       "99995                     NaN                   NaN  ...                    0   \n",
       "99996                     NaN                   NaN  ...                    0   \n",
       "99997                     NaN                   NaN  ...                    0   \n",
       "99998                     NaN                   NaN  ...                    0   \n",
       "99999                     NaN                   NaN  ...                    0   \n",
       "\n",
       "       Occupation_Scientist  Occupation_Teacher  Occupation_Writer  \\\n",
       "0                         1                   0                  0   \n",
       "1                         1                   0                  0   \n",
       "3                         1                   0                  0   \n",
       "4                         1                   0                  0   \n",
       "5                         1                   0                  0   \n",
       "...                     ...                 ...                ...   \n",
       "99995                     0                   0                  0   \n",
       "99996                     0                   0                  0   \n",
       "99997                     0                   0                  0   \n",
       "99998                     0                   0                  0   \n",
       "99999                     0                   0                  0   \n",
       "\n",
       "       Payment_Behaviour_High_spent_Large_value_payments  \\\n",
       "0                                                      0   \n",
       "1                                                      0   \n",
       "3                                                      0   \n",
       "4                                                      0   \n",
       "5                                                      0   \n",
       "...                                                  ...   \n",
       "99995                                                  1   \n",
       "99996                                                  0   \n",
       "99997                                                  1   \n",
       "99998                                                  0   \n",
       "99999                                                  0   \n",
       "\n",
       "       Payment_Behaviour_High_spent_Medium_value_payments  \\\n",
       "0                                                      0    \n",
       "1                                                      0    \n",
       "3                                                      0    \n",
       "4                                                      1    \n",
       "5                                                      0    \n",
       "...                                                  ...    \n",
       "99995                                                  0    \n",
       "99996                                                  1    \n",
       "99997                                                  0    \n",
       "99998                                                  0    \n",
       "99999                                                  0    \n",
       "\n",
       "       Payment_Behaviour_High_spent_Small_value_payments  \\\n",
       "0                                                      1   \n",
       "1                                                      0   \n",
       "3                                                      0   \n",
       "4                                                      0   \n",
       "5                                                      0   \n",
       "...                                                  ...   \n",
       "99995                                                  0   \n",
       "99996                                                  0   \n",
       "99997                                                  0   \n",
       "99998                                                  0   \n",
       "99999                                                  0   \n",
       "\n",
       "       Payment_Behaviour_Low_spent_Large_value_payments  \\\n",
       "0                                                     0   \n",
       "1                                                     1   \n",
       "3                                                     0   \n",
       "4                                                     0   \n",
       "5                                                     1   \n",
       "...                                                 ...   \n",
       "99995                                                 0   \n",
       "99996                                                 0   \n",
       "99997                                                 0   \n",
       "99998                                                 1   \n",
       "99999                                                 1   \n",
       "\n",
       "       Payment_Behaviour_Low_spent_Medium_value_payments  \\\n",
       "0                                                      0   \n",
       "1                                                      0   \n",
       "3                                                      0   \n",
       "4                                                      0   \n",
       "5                                                      0   \n",
       "...                                                  ...   \n",
       "99995                                                  0   \n",
       "99996                                                  0   \n",
       "99997                                                  0   \n",
       "99998                                                  0   \n",
       "99999                                                  0   \n",
       "\n",
       "       Payment_Behaviour_Low_spent_Small_value_payments  \n",
       "0                                                     0  \n",
       "1                                                     0  \n",
       "3                                                     1  \n",
       "4                                                     0  \n",
       "5                                                     0  \n",
       "...                                                 ...  \n",
       "99995                                                 0  \n",
       "99996                                                 0  \n",
       "99997                                                 0  \n",
       "99998                                                 0  \n",
       "99999                                                 0  \n",
       "\n",
       "[97900 rows x 40 columns]"
      ]
     },
     "execution_count": 35,
     "metadata": {},
     "output_type": "execute_result"
    }
   ],
   "source": [
    "train_df"
   ]
  },
  {
   "cell_type": "code",
   "execution_count": 36,
   "id": "caabc131",
   "metadata": {
    "execution": {
     "iopub.execute_input": "2022-12-15T11:10:13.735908Z",
     "iopub.status.busy": "2022-12-15T11:10:13.735453Z",
     "iopub.status.idle": "2022-12-15T11:10:13.753625Z",
     "shell.execute_reply": "2022-12-15T11:10:13.752225Z"
    },
    "papermill": {
     "duration": 0.052695,
     "end_time": "2022-12-15T11:10:13.756511",
     "exception": false,
     "start_time": "2022-12-15T11:10:13.703816",
     "status": "completed"
    },
    "tags": []
   },
   "outputs": [],
   "source": [
    "for i in numeric_cols:\n",
    "    train_df[i].fillna(method='ffill', inplace=True)"
   ]
  },
  {
   "cell_type": "code",
   "execution_count": 37,
   "id": "df2039d2",
   "metadata": {
    "execution": {
     "iopub.execute_input": "2022-12-15T11:10:13.820029Z",
     "iopub.status.busy": "2022-12-15T11:10:13.819189Z",
     "iopub.status.idle": "2022-12-15T11:10:13.841529Z",
     "shell.execute_reply": "2022-12-15T11:10:13.840255Z"
    },
    "papermill": {
     "duration": 0.059235,
     "end_time": "2022-12-15T11:10:13.844340",
     "exception": false,
     "start_time": "2022-12-15T11:10:13.785105",
     "status": "completed"
    },
    "tags": []
   },
   "outputs": [],
   "source": [
    "X = train_df.drop(['Credit_Score'],axis=1)\n",
    "y = train_df['Credit_Score']"
   ]
  },
  {
   "cell_type": "code",
   "execution_count": 38,
   "id": "1bacb0df",
   "metadata": {
    "execution": {
     "iopub.execute_input": "2022-12-15T11:10:13.903950Z",
     "iopub.status.busy": "2022-12-15T11:10:13.903516Z",
     "iopub.status.idle": "2022-12-15T11:10:13.945751Z",
     "shell.execute_reply": "2022-12-15T11:10:13.944435Z"
    },
    "papermill": {
     "duration": 0.075996,
     "end_time": "2022-12-15T11:10:13.948528",
     "exception": false,
     "start_time": "2022-12-15T11:10:13.872532",
     "status": "completed"
    },
    "tags": []
   },
   "outputs": [],
   "source": [
    "X_train, X_test, y_train, y_test = train_test_split(X, y, test_size=0.33, random_state=17)"
   ]
  },
  {
   "cell_type": "code",
   "execution_count": 40,
   "id": "be9a47d7",
   "metadata": {},
   "outputs": [],
   "source": [
    "from sklearn.neighbors import KNeighborsClassifier\n",
    "from sklearn.tree import DecisionTreeClassifier\n",
    "from sklearn.ensemble import RandomForestClassifier\n",
    "from sklearn.linear_model import LogisticRegression"
   ]
  },
  {
   "cell_type": "code",
   "execution_count": 41,
   "id": "6056ccf6",
   "metadata": {},
   "outputs": [
    {
     "name": "stdout",
     "output_type": "stream",
     "text": [
      "KNN : 0.5732503791747918\n"
     ]
    }
   ],
   "source": [
    "clf = KNeighborsClassifier(n_neighbors=12)\n",
    "clf.fit(X=X_train, y=y_train);\n",
    "print(f\"KNN : {clf.score(X_test,y_test)}\")\n",
    "y_pred = clf.predict(X_test)"
   ]
  },
  {
   "cell_type": "code",
   "execution_count": 42,
   "id": "ee5b8777",
   "metadata": {},
   "outputs": [
    {
     "name": "stdout",
     "output_type": "stream",
     "text": [
      "[[ 3558  5294   424]\n",
      " [ 2977 13283  1034]\n",
      " [  524  3534  1679]]\n"
     ]
    }
   ],
   "source": [
    "from sklearn.metrics import confusion_matrix\n",
    "from sklearn import metrics\n",
    "confusion_matrix = metrics.confusion_matrix(y_test, y_pred)\n",
    "print(confusion_matrix)"
   ]
  },
  {
   "cell_type": "code",
   "execution_count": 43,
   "id": "2420b6c1",
   "metadata": {},
   "outputs": [
    {
     "data": {
      "image/png": "[encoded data removed]",
      "text/plain": [
       "<Figure size 640x480 with 2 Axes>"
      ]
     },
     "metadata": {},
     "output_type": "display_data"
    }
   ],
   "source": [
    "cm_display = metrics.ConfusionMatrixDisplay(confusion_matrix = confusion_matrix, display_labels = ['Poor', 'Standard','Good'])\n",
    "cm_display.plot()\n",
    "plt.show()"
   ]
  },
  {
   "cell_type": "code",
   "execution_count": 44,
   "id": "56e902f2",
   "metadata": {},
   "outputs": [
    {
     "name": "stdout",
     "output_type": "stream",
     "text": [
      "LogisticRegression : 0.5929984213947441\n"
     ]
    }
   ],
   "source": [
    "lr = LogisticRegression(n_jobs=-1,random_state=17)\n",
    "param = {'C': range(0,11)}\n",
    "lr.fit(X_train,y_train)\n",
    "print(f\"LogisticRegression : {lr.score(X_test,y_test)}\")\n",
    "y_pred = lr.predict(X_test)"
   ]
  },
  {
   "cell_type": "code",
   "execution_count": 45,
   "id": "6894dfd1",
   "metadata": {},
   "outputs": [
    {
     "name": "stdout",
     "output_type": "stream",
     "text": [
      "[[ 2878  5360  1038]\n",
      " [ 1840 13136  2318]\n",
      " [   55  2538  3144]]\n"
     ]
    }
   ],
   "source": [
    "confusion_matrix = metrics.confusion_matrix(y_test, y_pred)\n",
    "print(confusion_matrix)"
   ]
  },
  {
   "cell_type": "code",
   "execution_count": 46,
   "id": "e920f061",
   "metadata": {},
   "outputs": [
    {
     "name": "stdout",
     "output_type": "stream",
     "text": [
      "RandomForestClassifier : 0.6549973689912403\n"
     ]
    }
   ],
   "source": [
    "clf_rf = RandomForestClassifier(n_jobs=-1,random_state=17)\n",
    "parametrs = {\"n_estimators\": [5,10,20,30], 'max_depth': range(1, 10)}\n",
    "clf_rf.fit(X_train,y_train)\n",
    "print(f\"RandomForestClassifier : {clf_rf.score(X_test,y_test)}\")\n",
    "y_pred = clf_rf.predict(X_test)"
   ]
  },
  {
   "cell_type": "code",
   "execution_count": 47,
   "id": "942699f0",
   "metadata": {},
   "outputs": [
    {
     "name": "stdout",
     "output_type": "stream",
     "text": [
      "[[ 4195  4432   649]\n",
      " [ 1973 13747  1574]\n",
      " [   76  2442  3219]]\n"
     ]
    }
   ],
   "source": [
    "confusion_matrix = metrics.confusion_matrix(y_test, y_pred)\n",
    "print(confusion_matrix)"
   ]
  },
  {
   "cell_type": "code",
   "execution_count": 48,
   "id": "050ff09c",
   "metadata": {},
   "outputs": [
    {
     "name": "stdout",
     "output_type": "stream",
     "text": [
      "DecisionTreeClassifier : 0.5951341814467452\n"
     ]
    }
   ],
   "source": [
    "clf3 = DecisionTreeClassifier(max_features=14 ,    max_depth=12)\n",
    "clf3.fit(X_train,y_train)\n",
    "print(f\"DecisionTreeClassifier : {clf3.score(X_test,y_test)}\")\n",
    "y_pred = clf3.predict(X_test)"
   ]
  },
  {
   "cell_type": "code",
   "execution_count": 49,
   "id": "cee97afd",
   "metadata": {},
   "outputs": [
    {
     "name": "stdout",
     "output_type": "stream",
     "text": [
      "[[ 3590  4746   940]\n",
      " [ 2489 12622  2183]\n",
      " [  191  2531  3015]]\n"
     ]
    }
   ],
   "source": [
    "confusion_matrix = metrics.confusion_matrix(y_test, y_pred)\n",
    "print(confusion_matrix)"
   ]
  },
  {
   "cell_type": "code",
   "execution_count": 50,
   "id": "af61c13b",
   "metadata": {},
   "outputs": [
    {
     "name": "stdout",
     "output_type": "stream",
     "text": [
      "RandomForestClassifier : 0.6549973689912403\n",
      "DecisionTreeClassifier : 0.5951341814467452\n",
      "LogisticRegression : 0.5929984213947441\n",
      "KNN : 0.5732503791747918\n"
     ]
    }
   ],
   "source": [
    "print(f\"RandomForestClassifier : {clf_rf.score(X_test,y_test)}\")\n",
    "print(f\"DecisionTreeClassifier : {clf3.score(X_test,y_test)}\")\n",
    "print(f\"LogisticRegression : {lr.score(X_test,y_test)}\")\n",
    "print(f\"KNN : {clf.score(X_test,y_test)}\")"
   ]
  },
  {
   "cell_type": "code",
   "execution_count": null,
   "id": "fab858a3",
   "metadata": {},
   "outputs": [],
   "source": []
  },
  {
   "cell_type": "code",
   "execution_count": null,
   "id": "c14722ef",
   "metadata": {},
   "outputs": [],
   "source": []
  },
  {
   "cell_type": "code",
   "execution_count": null,
   "id": "e5bfdf06",
   "metadata": {},
   "outputs": [],
   "source": []
  }
 ],
 "metadata": {
  "kernelspec": {
   "display_name": "Python 3 (ipykernel)",
   "language": "python",
   "name": "python3"
  },
  "language_info": {
   "codemirror_mode": {
    "name": "ipython",
    "version": 3
   },
   "file_extension": ".py",
   "mimetype": "text/x-python",
   "name": "python",
   "nbconvert_exporter": "python",
   "pygments_lexer": "ipython3",
   "version": "3.9.12"
  },
  "papermill": {
   "default_parameters": {},
   "duration": 392.091656,
   "end_time": "2022-12-15T11:16:06.094250",
   "environment_variables": {},
   "exception": null,
   "input_path": "__notebook__.ipynb",
   "output_path": "__notebook__.ipynb",
   "parameters": {},
   "start_time": "2022-12-15T11:09:34.002594",
   "version": "2.3.4"
  }
 },
 "nbformat": 4,
 "nbformat_minor": 5
}
